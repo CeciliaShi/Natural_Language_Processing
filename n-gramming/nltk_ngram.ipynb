{
 "cells": [
  {
   "cell_type": "code",
   "execution_count": 136,
   "metadata": {
    "collapsed": true
   },
   "outputs": [],
   "source": [
    "import nltk\n",
    "from nltk.collocations import *\n",
    "bgm = nltk.collocations.BigramAssocMeasures()"
   ]
  },
  {
   "cell_type": "code",
   "execution_count": 76,
   "metadata": {
    "collapsed": true
   },
   "outputs": [],
   "source": [
    "filename = 'Output1.txt'"
   ]
  },
  {
   "cell_type": "code",
   "execution_count": 78,
   "metadata": {
    "collapsed": false
   },
   "outputs": [],
   "source": [
    "with open(filename, encoding = \"utf-8\") as f:\n",
    "    for line in f:\n",
    "        text = line.split()"
   ]
  },
  {
   "cell_type": "code",
   "execution_count": 132,
   "metadata": {
    "collapsed": true
   },
   "outputs": [],
   "source": [
    "bigram_measures = nltk.collocations.BigramAssocMeasures()"
   ]
  },
  {
   "cell_type": "code",
   "execution_count": 133,
   "metadata": {
    "collapsed": true
   },
   "outputs": [],
   "source": [
    "# a short text for testing\n",
    "# text1 = \"I do not like green eggs and ham , I do not like them Sam I am!\"\n",
    "# text1 = text1.split()"
   ]
  },
  {
   "cell_type": "code",
   "execution_count": 157,
   "metadata": {
    "collapsed": true
   },
   "outputs": [],
   "source": [
    "finder = BigramCollocationFinder.from_words(text)"
   ]
  },
  {
   "cell_type": "code",
   "execution_count": 158,
   "metadata": {
    "collapsed": false
   },
   "outputs": [],
   "source": [
    "# filter bigrams that contain '.'\n",
    "# since '.' was used to separate different movies\n",
    "finder.apply_word_filter(lambda w: w in ('.'))"
   ]
  },
  {
   "cell_type": "code",
   "execution_count": 159,
   "metadata": {
    "collapsed": true
   },
   "outputs": [],
   "source": [
    "# not sure if this is valid\n",
    "# ignore all bigrams which occur less than 50 times in the corpus\n",
    "finder.apply_freq_filter(50)"
   ]
  },
  {
   "cell_type": "code",
   "execution_count": 160,
   "metadata": {
    "collapsed": false,
    "scrolled": true
   },
   "outputs": [
    {
     "data": {
      "text/plain": [
       "39070"
      ]
     },
     "execution_count": 160,
     "metadata": {},
     "output_type": "execute_result"
    }
   ],
   "source": [
    "scored = finder.score_ngrams(bgm.student_t)\n",
    "len(scored)"
   ]
  },
  {
   "cell_type": "code",
   "execution_count": 161,
   "metadata": {
    "collapsed": false,
    "scrolled": true
   },
   "outputs": [
    {
     "data": {
      "text/plain": [
       "[(('watch', 'movi'), 91.63230089913765),\n",
       " (('one', 'best'), 87.40838156193752),\n",
       " (('main', 'charact'), 85.55962909562712),\n",
       " (('special', 'effect'), 85.28024715279213),\n",
       " (('even', 'though'), 85.22403988200098),\n",
       " (('look', 'like'), 84.36034575400157),\n",
       " (('dont', 'know'), 80.68202235738728),\n",
       " (('feel', 'like'), 79.34506359764823),\n",
       " (('ive', 'seen'), 78.24016689778063),\n",
       " (('year', 'old'), 76.88897952637127)]"
      ]
     },
     "execution_count": 161,
     "metadata": {},
     "output_type": "execute_result"
    }
   ],
   "source": [
    "scored[0:10]"
   ]
  },
  {
   "cell_type": "code",
   "execution_count": 162,
   "metadata": {
    "collapsed": false
   },
   "outputs": [
    {
     "ename": "AttributeError",
     "evalue": "'list' object has no attribute 'above_score'",
     "output_type": "error",
     "traceback": [
      "\u001b[0;31m---------------------------------------------------------------------------\u001b[0m",
      "\u001b[0;31mAttributeError\u001b[0m                            Traceback (most recent call last)",
      "\u001b[0;32m<ipython-input-162-0cdaee629387>\u001b[0m in \u001b[0;36m<module>\u001b[0;34m()\u001b[0m\n\u001b[1;32m      2\u001b[0m \u001b[0;31m# 2.576 corresponds to alpha = 0.005\u001b[0m\u001b[0;34m\u001b[0m\u001b[0;34m\u001b[0m\u001b[0m\n\u001b[1;32m      3\u001b[0m \u001b[0;31m# 3.090 corresponds to alpha = 0.001\u001b[0m\u001b[0;34m\u001b[0m\u001b[0;34m\u001b[0m\u001b[0m\n\u001b[0;32m----> 4\u001b[0;31m \u001b[0mfilter_ngram\u001b[0m \u001b[0;34m=\u001b[0m \u001b[0msorted\u001b[0m\u001b[0;34m(\u001b[0m\u001b[0mscored\u001b[0m\u001b[0;34m.\u001b[0m\u001b[0mabove_score\u001b[0m\u001b[0;34m(\u001b[0m\u001b[0mbgm\u001b[0m\u001b[0;34m.\u001b[0m\u001b[0mstudent_t\u001b[0m\u001b[0;34m,\u001b[0m \u001b[0;36m3.090\u001b[0m\u001b[0;34m)\u001b[0m\u001b[0;34m)\u001b[0m\u001b[0;34m\u001b[0m\u001b[0m\n\u001b[0m",
      "\u001b[0;31mAttributeError\u001b[0m: 'list' object has no attribute 'above_score'"
     ]
    }
   ],
   "source": [
    "# 1.645 corresponds to alpha = 0.05\n",
    "# 2.576 corresponds to alpha = 0.005\n",
    "# 3.090 corresponds to alpha = 0.001\n",
    "# filter_ngram = sorted(finder.above_score(bgm.student_t, 3.090))\n",
    "# len(filter_ngram)\n",
    "# filter_ngram[0:10]"
   ]
  },
  {
   "cell_type": "code",
   "execution_count": 163,
   "metadata": {
    "collapsed": false
   },
   "outputs": [],
   "source": [
    "bigram = finder.nbest(bgm.student_t, 10)"
   ]
  },
  {
   "cell_type": "code",
   "execution_count": 164,
   "metadata": {
    "collapsed": false
   },
   "outputs": [
    {
     "data": {
      "text/plain": [
       "[('watch', 'movi'),\n",
       " ('one', 'best'),\n",
       " ('main', 'charact'),\n",
       " ('special', 'effect'),\n",
       " ('even', 'though'),\n",
       " ('look', 'like'),\n",
       " ('dont', 'know'),\n",
       " ('feel', 'like'),\n",
       " ('ive', 'seen'),\n",
       " ('year', 'old')]"
      ]
     },
     "execution_count": 164,
     "metadata": {},
     "output_type": "execute_result"
    }
   ],
   "source": [
    "bigram"
   ]
  },
  {
   "cell_type": "code",
   "execution_count": 99,
   "metadata": {
    "collapsed": false
   },
   "outputs": [],
   "source": [
    "finder.score_ngrams?"
   ]
  },
  {
   "cell_type": "code",
   "execution_count": 137,
   "metadata": {
    "collapsed": false
   },
   "outputs": [],
   "source": [
    "bgm?"
   ]
  },
  {
   "cell_type": "code",
   "execution_count": 124,
   "metadata": {
    "collapsed": true
   },
   "outputs": [],
   "source": [
    "bgm.student_t?"
   ]
  },
  {
   "cell_type": "code",
   "execution_count": null,
   "metadata": {
    "collapsed": true
   },
   "outputs": [],
   "source": []
  }
 ],
 "metadata": {
  "kernelspec": {
   "display_name": "Python [default]",
   "language": "python",
   "name": "python3"
  },
  "language_info": {
   "codemirror_mode": {
    "name": "ipython",
    "version": 3
   },
   "file_extension": ".py",
   "mimetype": "text/x-python",
   "name": "python",
   "nbconvert_exporter": "python",
   "pygments_lexer": "ipython3",
   "version": "3.5.2"
  }
 },
 "nbformat": 4,
 "nbformat_minor": 1
}
