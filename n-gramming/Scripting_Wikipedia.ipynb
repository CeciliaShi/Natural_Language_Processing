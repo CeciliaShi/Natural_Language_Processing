{
 "cells": [
  {
   "cell_type": "code",
   "execution_count": 13,
   "metadata": {
    "collapsed": true
   },
   "outputs": [],
   "source": [
    "import wikipedia\n",
    "import re\n",
    "import numpy as np\n",
    "import pandas as pd"
   ]
  },
  {
   "cell_type": "code",
   "execution_count": 14,
   "metadata": {
    "collapsed": false
   },
   "outputs": [],
   "source": [
    "# read in list of movies \n",
    "df = pd.read_csv('movie.csv', encoding = \"ISO-8859-1\")"
   ]
  },
  {
   "cell_type": "code",
   "execution_count": 15,
   "metadata": {
    "collapsed": false
   },
   "outputs": [
    {
     "data": {
      "text/html": [
       "<div>\n",
       "<table border=\"1\" class=\"dataframe\">\n",
       "  <thead>\n",
       "    <tr style=\"text-align: right;\">\n",
       "      <th></th>\n",
       "      <th>title</th>\n",
       "      <th>year</th>\n",
       "    </tr>\n",
       "  </thead>\n",
       "  <tbody>\n",
       "    <tr>\n",
       "      <th>0</th>\n",
       "      <td>Dead Awake</td>\n",
       "      <td>2016</td>\n",
       "    </tr>\n",
       "    <tr>\n",
       "      <th>1</th>\n",
       "      <td>Krish Trish and Baltiboy - Battle of Wits</td>\n",
       "      <td>2013</td>\n",
       "    </tr>\n",
       "    <tr>\n",
       "      <th>2</th>\n",
       "      <td>Krish Trish and Baltiboy - Best Friends Forever</td>\n",
       "      <td>2016</td>\n",
       "    </tr>\n",
       "    <tr>\n",
       "      <th>3</th>\n",
       "      <td>Krish Trish and Baltiboy - Comics of India</td>\n",
       "      <td>2012</td>\n",
       "    </tr>\n",
       "    <tr>\n",
       "      <th>4</th>\n",
       "      <td>Krish Trish and Baltiboy - Oversmartness Never...</td>\n",
       "      <td>2017</td>\n",
       "    </tr>\n",
       "  </tbody>\n",
       "</table>\n",
       "</div>"
      ],
      "text/plain": [
       "                                               title  year\n",
       "0                                         Dead Awake  2016\n",
       "1          Krish Trish and Baltiboy - Battle of Wits  2013\n",
       "2    Krish Trish and Baltiboy - Best Friends Forever  2016\n",
       "3         Krish Trish and Baltiboy - Comics of India  2012\n",
       "4  Krish Trish and Baltiboy - Oversmartness Never...  2017"
      ]
     },
     "execution_count": 15,
     "metadata": {},
     "output_type": "execute_result"
    }
   ],
   "source": [
    "df.head()"
   ]
  },
  {
   "cell_type": "code",
   "execution_count": null,
   "metadata": {
    "collapsed": false,
    "scrolled": true
   },
   "outputs": [],
   "source": [
    "data = pd.DataFrame()\n",
    "titles = []\n",
    "original_titles = []\n",
    "content_list = []\n",
    "#for title in title_list:\n",
    "for title in df.loc[0:1000,'title']:\n",
    "    regex = re.compile(re.compile(re.escape(title)+r' \\(\\d*\\s*film\\)|'+re.escape(title)+r'$'))\n",
    "    regex_match = np.vectorize(regex.match)\n",
    "    try: \n",
    "        search_list = wikipedia.search(title+' film')\n",
    "        movie_list = regex_match(search_list)\n",
    "    except IndexError:\n",
    "        continue\n",
    "    match_list = []\n",
    "    for i in range(movie_list.shape[0]):\n",
    "        if movie_list[i] is not None:\n",
    "            match_list.append(movie_list[i].group(0))\n",
    "    titles.extend(match_list)\n",
    "    for name in match_list:\n",
    "        try:\n",
    "            page=wikipedia.page(name)\n",
    "        except:\n",
    "            content_list.append('')\n",
    "            continue\n",
    "        content = page.content\n",
    "        content_list.append(content)\n",
    "    original_titles.extend(np.repeat(title,len(match_list)))"
   ]
  },
  {
   "cell_type": "code",
   "execution_count": 17,
   "metadata": {
    "collapsed": false
   },
   "outputs": [],
   "source": [
    "data['title'] = original_titles\n",
    "data['wiki_title'] = titles\n",
    "data['content'] = content_list"
   ]
  },
  {
   "cell_type": "code",
   "execution_count": 19,
   "metadata": {
    "collapsed": false
   },
   "outputs": [
    {
     "data": {
      "text/html": [
       "<div>\n",
       "<table border=\"1\" class=\"dataframe\">\n",
       "  <thead>\n",
       "    <tr style=\"text-align: right;\">\n",
       "      <th></th>\n",
       "      <th>title</th>\n",
       "      <th>wiki_title</th>\n",
       "      <th>content</th>\n",
       "    </tr>\n",
       "  </thead>\n",
       "  <tbody>\n",
       "    <tr>\n",
       "      <th>0</th>\n",
       "      <td>Dead Awake</td>\n",
       "      <td>Dead Awake (2016 film)</td>\n",
       "      <td>Dead Awake is a 2016 American supernatural psy...</td>\n",
       "    </tr>\n",
       "    <tr>\n",
       "      <th>1</th>\n",
       "      <td>Dead Awake</td>\n",
       "      <td>Dead Awake (2010 film)</td>\n",
       "      <td>Dead Awake is a 2010 mystery film starring Nic...</td>\n",
       "    </tr>\n",
       "    <tr>\n",
       "      <th>2</th>\n",
       "      <td>Dead Awake</td>\n",
       "      <td>Dead Awake (2001 film)</td>\n",
       "      <td>Dead Awake is a 2001 mystery film starring Ste...</td>\n",
       "    </tr>\n",
       "    <tr>\n",
       "      <th>3</th>\n",
       "      <td>Dead Awake</td>\n",
       "      <td>Dead Awake</td>\n",
       "      <td></td>\n",
       "    </tr>\n",
       "    <tr>\n",
       "      <th>4</th>\n",
       "      <td>Mighty Raju Rio Calling</td>\n",
       "      <td>Mighty Raju Rio Calling</td>\n",
       "      <td>Mighty Raju: Rio Calling is an Indian animated...</td>\n",
       "    </tr>\n",
       "  </tbody>\n",
       "</table>\n",
       "</div>"
      ],
      "text/plain": [
       "                     title               wiki_title  \\\n",
       "0               Dead Awake   Dead Awake (2016 film)   \n",
       "1               Dead Awake   Dead Awake (2010 film)   \n",
       "2               Dead Awake   Dead Awake (2001 film)   \n",
       "3               Dead Awake               Dead Awake   \n",
       "4  Mighty Raju Rio Calling  Mighty Raju Rio Calling   \n",
       "\n",
       "                                             content  \n",
       "0  Dead Awake is a 2016 American supernatural psy...  \n",
       "1  Dead Awake is a 2010 mystery film starring Nic...  \n",
       "2  Dead Awake is a 2001 mystery film starring Ste...  \n",
       "3                                                     \n",
       "4  Mighty Raju: Rio Calling is an Indian animated...  "
      ]
     },
     "execution_count": 19,
     "metadata": {},
     "output_type": "execute_result"
    }
   ],
   "source": [
    "data.head()"
   ]
  },
  {
   "cell_type": "code",
   "execution_count": 20,
   "metadata": {
    "collapsed": true
   },
   "outputs": [],
   "source": [
    "#data.to_csv('reviews_wiki_0_1000_v2.csv')"
   ]
  },
  {
   "cell_type": "code",
   "execution_count": null,
   "metadata": {
    "collapsed": true
   },
   "outputs": [],
   "source": []
  }
 ],
 "metadata": {
  "anaconda-cloud": {},
  "kernelspec": {
   "display_name": "Python [conda root]",
   "language": "python",
   "name": "conda-root-py"
  },
  "language_info": {
   "codemirror_mode": {
    "name": "ipython",
    "version": 3
   },
   "file_extension": ".py",
   "mimetype": "text/x-python",
   "name": "python",
   "nbconvert_exporter": "python",
   "pygments_lexer": "ipython3",
   "version": "3.5.2"
  }
 },
 "nbformat": 4,
 "nbformat_minor": 1
}
