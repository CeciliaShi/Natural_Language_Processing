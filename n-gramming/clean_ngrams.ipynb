{
 "cells": [
  {
   "cell_type": "code",
   "execution_count": 73,
   "metadata": {
    "collapsed": false
   },
   "outputs": [],
   "source": [
    "from sklearn.externals import joblib\n",
    "from collections import Counter\n",
    "import numpy as np\n",
    "import pandas as pd\n",
    "import re"
   ]
  },
  {
   "cell_type": "code",
   "execution_count": 12,
   "metadata": {
    "collapsed": false
   },
   "outputs": [],
   "source": [
    "# read data\n",
    "df =  joblib.load('../../data/clean_complete_ngram.pickle')"
   ]
  },
  {
   "cell_type": "code",
   "execution_count": 176,
   "metadata": {
    "collapsed": false
   },
   "outputs": [
    {
     "data": {
      "text/html": [
       "<div>\n",
       "<table border=\"1\" class=\"dataframe\">\n",
       "  <thead>\n",
       "    <tr style=\"text-align: right;\">\n",
       "      <th></th>\n",
       "      <th>title</th>\n",
       "      <th>year</th>\n",
       "      <th>synopsis</th>\n",
       "      <th>reviews</th>\n",
       "      <th>content</th>\n",
       "      <th>reviews_tri</th>\n",
       "      <th>contents_tri</th>\n",
       "      <th>reviews_bi</th>\n",
       "      <th>contents_bi</th>\n",
       "      <th>reviews_mono</th>\n",
       "      <th>contents_mono</th>\n",
       "      <th>cleaned_content</th>\n",
       "    </tr>\n",
       "  </thead>\n",
       "  <tbody>\n",
       "    <tr>\n",
       "      <th>0</th>\n",
       "      <td>Dead Awake</td>\n",
       "      <td>2016</td>\n",
       "      <td>investig death twin sister sleep social worker...</td>\n",
       "      <td>movi new havent seen name 3 4 last yeari famil...</td>\n",
       "      <td>dead awak 2016 american supernatur psycholog h...</td>\n",
       "      <td>{('movi', 'kind', 'movi'): 1, ('film', 'great'...</td>\n",
       "      <td>{('refer', 'extern', 'link'): 1, ('psycholog',...</td>\n",
       "      <td>{('movi', 'joke'): 1, ('actual', 'like'): 2, (...</td>\n",
       "      <td>{('horror', 'film'): 1, ('sleep', 'paralysi'):...</td>\n",
       "      <td>{'jeffri': 1, 'attack': 1, 'stand': 1, 'believ...</td>\n",
       "      <td>{'donahu': 2, 'guzman': 1, 'believ': 1, 'hag':...</td>\n",
       "      <td>dead awak 2016 american supernatur  written je...</td>\n",
       "    </tr>\n",
       "    <tr>\n",
       "      <th>10</th>\n",
       "      <td>A Good American</td>\n",
       "      <td>2015</td>\n",
       "      <td>documentari reveal truth nsa cryptologist inno...</td>\n",
       "      <td>documentari show situat idea know bit heard re...</td>\n",
       "      <td>good american 2015 austrian documentari film c...</td>\n",
       "      <td>{}</td>\n",
       "      <td>{('refer', 'extern', 'link'): 1, ('new', 'york...</td>\n",
       "      <td>{('begin', 'end'): 1, ('complet', 'surpris'): ...</td>\n",
       "      <td>{('war', 'time'): 1, ('york', 'time'): 1, ('do...</td>\n",
       "      <td>{'protect': 1, 'embarrass': 1, 'privaci': 1, '...</td>\n",
       "      <td>{'attack': 3, 'new': 1, 'morri': 1, 'errol': 1...</td>\n",
       "      <td>good american 2015 austrian documentari film c...</td>\n",
       "    </tr>\n",
       "  </tbody>\n",
       "</table>\n",
       "</div>"
      ],
      "text/plain": [
       "              title  year                                           synopsis  \\\n",
       "0        Dead Awake  2016  investig death twin sister sleep social worker...   \n",
       "10  A Good American  2015  documentari reveal truth nsa cryptologist inno...   \n",
       "\n",
       "                                              reviews  \\\n",
       "0   movi new havent seen name 3 4 last yeari famil...   \n",
       "10  documentari show situat idea know bit heard re...   \n",
       "\n",
       "                                              content  \\\n",
       "0   dead awak 2016 american supernatur psycholog h...   \n",
       "10  good american 2015 austrian documentari film c...   \n",
       "\n",
       "                                          reviews_tri  \\\n",
       "0   {('movi', 'kind', 'movi'): 1, ('film', 'great'...   \n",
       "10                                                 {}   \n",
       "\n",
       "                                         contents_tri  \\\n",
       "0   {('refer', 'extern', 'link'): 1, ('psycholog',...   \n",
       "10  {('refer', 'extern', 'link'): 1, ('new', 'york...   \n",
       "\n",
       "                                           reviews_bi  \\\n",
       "0   {('movi', 'joke'): 1, ('actual', 'like'): 2, (...   \n",
       "10  {('begin', 'end'): 1, ('complet', 'surpris'): ...   \n",
       "\n",
       "                                          contents_bi  \\\n",
       "0   {('horror', 'film'): 1, ('sleep', 'paralysi'):...   \n",
       "10  {('war', 'time'): 1, ('york', 'time'): 1, ('do...   \n",
       "\n",
       "                                         reviews_mono  \\\n",
       "0   {'jeffri': 1, 'attack': 1, 'stand': 1, 'believ...   \n",
       "10  {'protect': 1, 'embarrass': 1, 'privaci': 1, '...   \n",
       "\n",
       "                                        contents_mono  \\\n",
       "0   {'donahu': 2, 'guzman': 1, 'believ': 1, 'hag':...   \n",
       "10  {'attack': 3, 'new': 1, 'morri': 1, 'errol': 1...   \n",
       "\n",
       "                                      cleaned_content  \n",
       "0   dead awak 2016 american supernatur  written je...  \n",
       "10  good american 2015 austrian documentari film c...  "
      ]
     },
     "execution_count": 176,
     "metadata": {},
     "output_type": "execute_result"
    }
   ],
   "source": [
    "df.head(2)"
   ]
  },
  {
   "cell_type": "code",
   "execution_count": 201,
   "metadata": {
    "collapsed": true
   },
   "outputs": [],
   "source": [
    "def remove_ngram(grams, text):\n",
    "    for gram in grams:\n",
    "        expres = \" \".join(gram)\n",
    "        text = re.sub(expres, \"\", text)\n",
    "    return text"
   ]
  },
  {
   "cell_type": "code",
   "execution_count": 202,
   "metadata": {
    "collapsed": false
   },
   "outputs": [],
   "source": [
    "# remove tri-grams\n",
    "df['cleaned_content'] = df.apply(lambda row: remove_ngram(list(row['contents_tri'].keys()), row['content']), axis=1)\n",
    "df['cleaned_reviews'] = df.apply(lambda row: remove_ngram(list(row['reviews_tri'].keys()), row['reviews']), axis=1)"
   ]
  },
  {
   "cell_type": "code",
   "execution_count": 203,
   "metadata": {
    "collapsed": true
   },
   "outputs": [],
   "source": [
    "# remove bi-grams\n",
    "df['cleaned_content'] = df.apply(lambda row: remove_ngram(list(row['contents_bi'].keys()), row['cleaned_content']), axis=1)\n",
    "df['cleaned_reviews'] = df.apply(lambda row: remove_ngram(list(row['reviews_bi'].keys()), row['cleaned_reviews']), axis=1)"
   ]
  },
  {
   "cell_type": "code",
   "execution_count": 204,
   "metadata": {
    "collapsed": true
   },
   "outputs": [],
   "source": [
    "# split text into mono-grams\n",
    "df['reviews_mono'] = df.apply(lambda row: Counter(row['cleaned_reviews'].split()), axis=1)\n",
    "df['contents_mono'] = df.apply(lambda row: Counter(row['cleaned_content'].split()), axis=1)"
   ]
  },
  {
   "cell_type": "code",
   "execution_count": 205,
   "metadata": {
    "collapsed": false
   },
   "outputs": [
    {
     "data": {
      "text/html": [
       "<div>\n",
       "<table border=\"1\" class=\"dataframe\">\n",
       "  <thead>\n",
       "    <tr style=\"text-align: right;\">\n",
       "      <th></th>\n",
       "      <th>title</th>\n",
       "      <th>year</th>\n",
       "      <th>synopsis</th>\n",
       "      <th>reviews</th>\n",
       "      <th>content</th>\n",
       "      <th>reviews_tri</th>\n",
       "      <th>contents_tri</th>\n",
       "      <th>reviews_bi</th>\n",
       "      <th>contents_bi</th>\n",
       "      <th>reviews_mono</th>\n",
       "      <th>contents_mono</th>\n",
       "      <th>cleaned_content</th>\n",
       "      <th>cleaned_reviews</th>\n",
       "    </tr>\n",
       "  </thead>\n",
       "  <tbody>\n",
       "    <tr>\n",
       "      <th>0</th>\n",
       "      <td>Dead Awake</td>\n",
       "      <td>2016</td>\n",
       "      <td>investig death twin sister sleep social worker...</td>\n",
       "      <td>movi new havent seen name 3 4 last yeari famil...</td>\n",
       "      <td>dead awak 2016 american supernatur psycholog h...</td>\n",
       "      <td>{('movi', 'kind', 'movi'): 1, ('film', 'great'...</td>\n",
       "      <td>{('refer', 'extern', 'link'): 1, ('psycholog',...</td>\n",
       "      <td>{('movi', 'joke'): 1, ('actual', 'like'): 2, (...</td>\n",
       "      <td>{('horror', 'film'): 1, ('sleep', 'paralysi'):...</td>\n",
       "      <td>{'absolut': 1, 'believ': 2, 'formula': 1, 'ser...</td>\n",
       "      <td>{'donahu': 2, 'guzman': 1, 'believ': 1, 'kate'...</td>\n",
       "      <td>dead awak  supernatur  written jeffrey reddick...</td>\n",
       "      <td>name  last yeari familiar actual sleep paral...</td>\n",
       "    </tr>\n",
       "    <tr>\n",
       "      <th>10</th>\n",
       "      <td>A Good American</td>\n",
       "      <td>2015</td>\n",
       "      <td>documentari reveal truth nsa cryptologist inno...</td>\n",
       "      <td>documentari show situat idea know bit heard re...</td>\n",
       "      <td>good american 2015 austrian documentari film c...</td>\n",
       "      <td>{}</td>\n",
       "      <td>{('refer', 'extern', 'link'): 1, ('new', 'york...</td>\n",
       "      <td>{('begin', 'end'): 1, ('complet', 'surpris'): ...</td>\n",
       "      <td>{('war', 'time'): 1, ('york', 'time'): 1, ('do...</td>\n",
       "      <td>{'protect': 1, 'embarrass': 1, 'privaci': 1, '...</td>\n",
       "      <td>{'bia': 1, 'attack': 1, 'narr': 1, 'commun': 1...</td>\n",
       "      <td>2015 austrian  chronicl work whistleblow will...</td>\n",
       "      <td>situat idea  heard read deep reason documenta...</td>\n",
       "    </tr>\n",
       "    <tr>\n",
       "      <th>11</th>\n",
       "      <td>Hard Tide</td>\n",
       "      <td>2015</td>\n",
       "      <td>drug dealer who emul father success crimin car...</td>\n",
       "      <td>watch rot last night tempt dont bother script ...</td>\n",
       "      <td>hard tide 2015 british crime drama written dir...</td>\n",
       "      <td>{('year', 'old', 'girl'): 2, ('rest', 'cast', ...</td>\n",
       "      <td>{('refer', 'extern', 'link'): 1, ('rotten', 't...</td>\n",
       "      <td>{('take', 'long'): 1, ('product', 'team'): 1, ...</td>\n",
       "      <td>{('drug', 'dealer'): 1, ('aggreg', 'report'): ...</td>\n",
       "      <td>{'light': 1, 'torn': 1, 'thought': 2, 'seasid'...</td>\n",
       "      <td>{'arrest': 2, 'stop': 1, 'attack': 1, 'curios'...</td>\n",
       "      <td>hard tide 2015 british   robert osman nathanae...</td>\n",
       "      <td>watch rot  tempt   clueless act cringeabl folk...</td>\n",
       "    </tr>\n",
       "  </tbody>\n",
       "</table>\n",
       "</div>"
      ],
      "text/plain": [
       "              title  year                                           synopsis  \\\n",
       "0        Dead Awake  2016  investig death twin sister sleep social worker...   \n",
       "10  A Good American  2015  documentari reveal truth nsa cryptologist inno...   \n",
       "11        Hard Tide  2015  drug dealer who emul father success crimin car...   \n",
       "\n",
       "                                              reviews  \\\n",
       "0   movi new havent seen name 3 4 last yeari famil...   \n",
       "10  documentari show situat idea know bit heard re...   \n",
       "11  watch rot last night tempt dont bother script ...   \n",
       "\n",
       "                                              content  \\\n",
       "0   dead awak 2016 american supernatur psycholog h...   \n",
       "10  good american 2015 austrian documentari film c...   \n",
       "11  hard tide 2015 british crime drama written dir...   \n",
       "\n",
       "                                          reviews_tri  \\\n",
       "0   {('movi', 'kind', 'movi'): 1, ('film', 'great'...   \n",
       "10                                                 {}   \n",
       "11  {('year', 'old', 'girl'): 2, ('rest', 'cast', ...   \n",
       "\n",
       "                                         contents_tri  \\\n",
       "0   {('refer', 'extern', 'link'): 1, ('psycholog',...   \n",
       "10  {('refer', 'extern', 'link'): 1, ('new', 'york...   \n",
       "11  {('refer', 'extern', 'link'): 1, ('rotten', 't...   \n",
       "\n",
       "                                           reviews_bi  \\\n",
       "0   {('movi', 'joke'): 1, ('actual', 'like'): 2, (...   \n",
       "10  {('begin', 'end'): 1, ('complet', 'surpris'): ...   \n",
       "11  {('take', 'long'): 1, ('product', 'team'): 1, ...   \n",
       "\n",
       "                                          contents_bi  \\\n",
       "0   {('horror', 'film'): 1, ('sleep', 'paralysi'):...   \n",
       "10  {('war', 'time'): 1, ('york', 'time'): 1, ('do...   \n",
       "11  {('drug', 'dealer'): 1, ('aggreg', 'report'): ...   \n",
       "\n",
       "                                         reviews_mono  \\\n",
       "0   {'absolut': 1, 'believ': 2, 'formula': 1, 'ser...   \n",
       "10  {'protect': 1, 'embarrass': 1, 'privaci': 1, '...   \n",
       "11  {'light': 1, 'torn': 1, 'thought': 2, 'seasid'...   \n",
       "\n",
       "                                        contents_mono  \\\n",
       "0   {'donahu': 2, 'guzman': 1, 'believ': 1, 'kate'...   \n",
       "10  {'bia': 1, 'attack': 1, 'narr': 1, 'commun': 1...   \n",
       "11  {'arrest': 2, 'stop': 1, 'attack': 1, 'curios'...   \n",
       "\n",
       "                                      cleaned_content  \\\n",
       "0   dead awak  supernatur  written jeffrey reddick...   \n",
       "10   2015 austrian  chronicl work whistleblow will...   \n",
       "11  hard tide 2015 british   robert osman nathanae...   \n",
       "\n",
       "                                      cleaned_reviews  \n",
       "0     name  last yeari familiar actual sleep paral...  \n",
       "10   situat idea  heard read deep reason documenta...  \n",
       "11  watch rot  tempt   clueless act cringeabl folk...  "
      ]
     },
     "execution_count": 205,
     "metadata": {},
     "output_type": "execute_result"
    }
   ],
   "source": [
    "df.head(3)"
   ]
  },
  {
   "cell_type": "code",
   "execution_count": null,
   "metadata": {
    "collapsed": true
   },
   "outputs": [],
   "source": []
  }
 ],
 "metadata": {
  "anaconda-cloud": {},
  "kernelspec": {
   "display_name": "Python [default]",
   "language": "python",
   "name": "python3"
  },
  "language_info": {
   "codemirror_mode": {
    "name": "ipython",
    "version": 3
   },
   "file_extension": ".py",
   "mimetype": "text/x-python",
   "name": "python",
   "nbconvert_exporter": "python",
   "pygments_lexer": "ipython3",
   "version": "3.5.2"
  }
 },
 "nbformat": 4,
 "nbformat_minor": 1
}
