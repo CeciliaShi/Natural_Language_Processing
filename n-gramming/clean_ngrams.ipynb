{
 "cells": [
  {
   "cell_type": "code",
   "execution_count": 1,
   "metadata": {
    "collapsed": false
   },
   "outputs": [],
   "source": [
    "from sklearn.externals import joblib\n",
    "from collections import Counter\n",
    "import numpy as np\n",
    "import pandas as pd\n",
    "import re"
   ]
  },
  {
   "cell_type": "code",
   "execution_count": 2,
   "metadata": {
    "collapsed": false
   },
   "outputs": [],
   "source": [
    "# read data\n",
    "df =  joblib.load('../../data/clean_complete_ngram.pickle')"
   ]
  },
  {
   "cell_type": "code",
   "execution_count": 3,
   "metadata": {
    "collapsed": false
   },
   "outputs": [
    {
     "data": {
      "text/html": [
       "<div>\n",
       "<table border=\"1\" class=\"dataframe\">\n",
       "  <thead>\n",
       "    <tr style=\"text-align: right;\">\n",
       "      <th></th>\n",
       "      <th>title</th>\n",
       "      <th>year</th>\n",
       "      <th>synopsis</th>\n",
       "      <th>reviews</th>\n",
       "      <th>content</th>\n",
       "      <th>reviews_tri</th>\n",
       "      <th>contents_tri</th>\n",
       "      <th>reviews_bi</th>\n",
       "      <th>contents_bi</th>\n",
       "    </tr>\n",
       "  </thead>\n",
       "  <tbody>\n",
       "    <tr>\n",
       "      <th>0</th>\n",
       "      <td>Dead Awake</td>\n",
       "      <td>2016</td>\n",
       "      <td>investig death twin sister sleep social worker...</td>\n",
       "      <td>movi new havent seen name 3 4 last yeari famil...</td>\n",
       "      <td>dead awak 2016 american supernatur psycholog h...</td>\n",
       "      <td>{('first', 'time', 'saw'): 1, ('like', 'horror...</td>\n",
       "      <td>{('link', 'offici', 'websit'): 1, ('extern', '...</td>\n",
       "      <td>{('happen', 'that'): 1, ('time', 'year'): 1, (...</td>\n",
       "      <td>{('film', 'saw'): 1, ('sleep', 'paralysi'): 1,...</td>\n",
       "    </tr>\n",
       "    <tr>\n",
       "      <th>10</th>\n",
       "      <td>A Good American</td>\n",
       "      <td>2015</td>\n",
       "      <td>documentari reveal truth nsa cryptologist inno...</td>\n",
       "      <td>documentari show situat idea know bit heard re...</td>\n",
       "      <td>good american 2015 austrian documentari film c...</td>\n",
       "      <td>{}</td>\n",
       "      <td>{('critic', 'recept', 'film'): 1, ('new', 'yor...</td>\n",
       "      <td>{('american', 'film'): 1, ('charact', 'base'):...</td>\n",
       "      <td>{('good', 'american'): 2, ('produc', 'direct')...</td>\n",
       "    </tr>\n",
       "  </tbody>\n",
       "</table>\n",
       "</div>"
      ],
      "text/plain": [
       "              title  year                                           synopsis  \\\n",
       "0        Dead Awake  2016  investig death twin sister sleep social worker...   \n",
       "10  A Good American  2015  documentari reveal truth nsa cryptologist inno...   \n",
       "\n",
       "                                              reviews  \\\n",
       "0   movi new havent seen name 3 4 last yeari famil...   \n",
       "10  documentari show situat idea know bit heard re...   \n",
       "\n",
       "                                              content  \\\n",
       "0   dead awak 2016 american supernatur psycholog h...   \n",
       "10  good american 2015 austrian documentari film c...   \n",
       "\n",
       "                                          reviews_tri  \\\n",
       "0   {('first', 'time', 'saw'): 1, ('like', 'horror...   \n",
       "10                                                 {}   \n",
       "\n",
       "                                         contents_tri  \\\n",
       "0   {('link', 'offici', 'websit'): 1, ('extern', '...   \n",
       "10  {('critic', 'recept', 'film'): 1, ('new', 'yor...   \n",
       "\n",
       "                                           reviews_bi  \\\n",
       "0   {('happen', 'that'): 1, ('time', 'year'): 1, (...   \n",
       "10  {('american', 'film'): 1, ('charact', 'base'):...   \n",
       "\n",
       "                                          contents_bi  \n",
       "0   {('film', 'saw'): 1, ('sleep', 'paralysi'): 1,...  \n",
       "10  {('good', 'american'): 2, ('produc', 'direct')...  "
      ]
     },
     "execution_count": 3,
     "metadata": {},
     "output_type": "execute_result"
    }
   ],
   "source": [
    "df.head(2)"
   ]
  },
  {
   "cell_type": "code",
   "execution_count": 4,
   "metadata": {
    "collapsed": true
   },
   "outputs": [],
   "source": [
    "def remove_ngram(grams, text):\n",
    "    for gram in grams:\n",
    "        expres = \" \".join(gram)\n",
    "        text = re.sub(expres, \"\", text)\n",
    "    return text"
   ]
  },
  {
   "cell_type": "code",
   "execution_count": 5,
   "metadata": {
    "collapsed": false
   },
   "outputs": [],
   "source": [
    "# remove tri-grams\n",
    "df['cleaned_content'] = df.apply(lambda row: remove_ngram(list(row['contents_tri'].keys()), row['content']), axis=1)\n",
    "df['cleaned_reviews'] = df.apply(lambda row: remove_ngram(list(row['reviews_tri'].keys()), row['reviews']), axis=1)"
   ]
  },
  {
   "cell_type": "code",
   "execution_count": 6,
   "metadata": {
    "collapsed": true
   },
   "outputs": [],
   "source": [
    "# remove bi-grams\n",
    "df['cleaned_content'] = df.apply(lambda row: remove_ngram(list(row['contents_bi'].keys()), row['cleaned_content']), axis=1)\n",
    "df['cleaned_reviews'] = df.apply(lambda row: remove_ngram(list(row['reviews_bi'].keys()), row['cleaned_reviews']), axis=1)"
   ]
  },
  {
   "cell_type": "code",
   "execution_count": 7,
   "metadata": {
    "collapsed": true
   },
   "outputs": [],
   "source": [
    "# split text into mono-grams\n",
    "df['reviews_mono'] = df.apply(lambda row: Counter(row['cleaned_reviews'].split()), axis=1)\n",
    "df['contents_mono'] = df.apply(lambda row: Counter(row['cleaned_content'].split()), axis=1)"
   ]
  },
  {
   "cell_type": "code",
   "execution_count": 8,
   "metadata": {
    "collapsed": false
   },
   "outputs": [
    {
     "data": {
      "text/html": [
       "<div>\n",
       "<table border=\"1\" class=\"dataframe\">\n",
       "  <thead>\n",
       "    <tr style=\"text-align: right;\">\n",
       "      <th></th>\n",
       "      <th>title</th>\n",
       "      <th>year</th>\n",
       "      <th>synopsis</th>\n",
       "      <th>reviews</th>\n",
       "      <th>content</th>\n",
       "      <th>reviews_tri</th>\n",
       "      <th>contents_tri</th>\n",
       "      <th>reviews_bi</th>\n",
       "      <th>contents_bi</th>\n",
       "      <th>cleaned_content</th>\n",
       "      <th>cleaned_reviews</th>\n",
       "      <th>reviews_mono</th>\n",
       "      <th>contents_mono</th>\n",
       "    </tr>\n",
       "  </thead>\n",
       "  <tbody>\n",
       "    <tr>\n",
       "      <th>0</th>\n",
       "      <td>Dead Awake</td>\n",
       "      <td>2016</td>\n",
       "      <td>investig death twin sister sleep social worker...</td>\n",
       "      <td>movi new havent seen name 3 4 last yeari famil...</td>\n",
       "      <td>dead awak 2016 american supernatur psycholog h...</td>\n",
       "      <td>{('first', 'time', 'saw'): 1, ('like', 'horror...</td>\n",
       "      <td>{('link', 'offici', 'websit'): 1, ('extern', '...</td>\n",
       "      <td>{('happen', 'that'): 1, ('time', 'year'): 1, (...</td>\n",
       "      <td>{('film', 'saw'): 1, ('sleep', 'paralysi'): 1,...</td>\n",
       "      <td>dead awak  supernatur  written jeffrey reddick...</td>\n",
       "      <td>name  last yeari familiar actual sleep paral...</td>\n",
       "      <td>{'movi': 3, 'bathtub': 1, 'writer': 1, 'occur'...</td>\n",
       "      <td>{'grant': 2, 'target': 1, 'bowman': 2, 'myster...</td>\n",
       "    </tr>\n",
       "    <tr>\n",
       "      <th>10</th>\n",
       "      <td>A Good American</td>\n",
       "      <td>2015</td>\n",
       "      <td>documentari reveal truth nsa cryptologist inno...</td>\n",
       "      <td>documentari show situat idea know bit heard re...</td>\n",
       "      <td>good american 2015 austrian documentari film c...</td>\n",
       "      <td>{}</td>\n",
       "      <td>{('critic', 'recept', 'film'): 1, ('new', 'yor...</td>\n",
       "      <td>{('american', 'film'): 1, ('charact', 'base'):...</td>\n",
       "      <td>{('good', 'american'): 2, ('produc', 'direct')...</td>\n",
       "      <td>2015 austrian  chronicl work whistleblow will...</td>\n",
       "      <td>situat idea  heard read deep reason documenta...</td>\n",
       "      <td>{'predict': 1, 'current': 1, 'piec': 1, 'creat...</td>\n",
       "      <td>{'inventor': 1, 'conspiraci': 1, 'gener': 1, '...</td>\n",
       "    </tr>\n",
       "    <tr>\n",
       "      <th>11</th>\n",
       "      <td>Hard Tide</td>\n",
       "      <td>2015</td>\n",
       "      <td>drug dealer who emul father success crimin car...</td>\n",
       "      <td>watch rot last night tempt dont bother script ...</td>\n",
       "      <td>hard tide 2015 british crime drama written dir...</td>\n",
       "      <td>{('end', 'credit', 'roll'): 1, ('make', 'film'...</td>\n",
       "      <td>{('film', 'festiv', 'septemb'): 1, ('film', 'p...</td>\n",
       "      <td>{('movi', 'releas'): 1, ('right', 'thing'): 1,...</td>\n",
       "      <td>{('threaten', 'kill'): 1, ('father', 'death'):...</td>\n",
       "      <td>hard tide 2015 british   robert osman nathanae...</td>\n",
       "      <td>watch rot  tempt   clueless act cringeabl folk...</td>\n",
       "      <td>{'folk': 1, 'council': 1, 'famili': 1, 'nathan...</td>\n",
       "      <td>{'protest': 1, 'council': 1, '6510': 1, 'frien...</td>\n",
       "    </tr>\n",
       "  </tbody>\n",
       "</table>\n",
       "</div>"
      ],
      "text/plain": [
       "              title  year                                           synopsis  \\\n",
       "0        Dead Awake  2016  investig death twin sister sleep social worker...   \n",
       "10  A Good American  2015  documentari reveal truth nsa cryptologist inno...   \n",
       "11        Hard Tide  2015  drug dealer who emul father success crimin car...   \n",
       "\n",
       "                                              reviews  \\\n",
       "0   movi new havent seen name 3 4 last yeari famil...   \n",
       "10  documentari show situat idea know bit heard re...   \n",
       "11  watch rot last night tempt dont bother script ...   \n",
       "\n",
       "                                              content  \\\n",
       "0   dead awak 2016 american supernatur psycholog h...   \n",
       "10  good american 2015 austrian documentari film c...   \n",
       "11  hard tide 2015 british crime drama written dir...   \n",
       "\n",
       "                                          reviews_tri  \\\n",
       "0   {('first', 'time', 'saw'): 1, ('like', 'horror...   \n",
       "10                                                 {}   \n",
       "11  {('end', 'credit', 'roll'): 1, ('make', 'film'...   \n",
       "\n",
       "                                         contents_tri  \\\n",
       "0   {('link', 'offici', 'websit'): 1, ('extern', '...   \n",
       "10  {('critic', 'recept', 'film'): 1, ('new', 'yor...   \n",
       "11  {('film', 'festiv', 'septemb'): 1, ('film', 'p...   \n",
       "\n",
       "                                           reviews_bi  \\\n",
       "0   {('happen', 'that'): 1, ('time', 'year'): 1, (...   \n",
       "10  {('american', 'film'): 1, ('charact', 'base'):...   \n",
       "11  {('movi', 'releas'): 1, ('right', 'thing'): 1,...   \n",
       "\n",
       "                                          contents_bi  \\\n",
       "0   {('film', 'saw'): 1, ('sleep', 'paralysi'): 1,...   \n",
       "10  {('good', 'american'): 2, ('produc', 'direct')...   \n",
       "11  {('threaten', 'kill'): 1, ('father', 'death'):...   \n",
       "\n",
       "                                      cleaned_content  \\\n",
       "0   dead awak  supernatur  written jeffrey reddick...   \n",
       "10   2015 austrian  chronicl work whistleblow will...   \n",
       "11  hard tide 2015 british   robert osman nathanae...   \n",
       "\n",
       "                                      cleaned_reviews  \\\n",
       "0     name  last yeari familiar actual sleep paral...   \n",
       "10   situat idea  heard read deep reason documenta...   \n",
       "11  watch rot  tempt   clueless act cringeabl folk...   \n",
       "\n",
       "                                         reviews_mono  \\\n",
       "0   {'movi': 3, 'bathtub': 1, 'writer': 1, 'occur'...   \n",
       "10  {'predict': 1, 'current': 1, 'piec': 1, 'creat...   \n",
       "11  {'folk': 1, 'council': 1, 'famili': 1, 'nathan...   \n",
       "\n",
       "                                        contents_mono  \n",
       "0   {'grant': 2, 'target': 1, 'bowman': 2, 'myster...  \n",
       "10  {'inventor': 1, 'conspiraci': 1, 'gener': 1, '...  \n",
       "11  {'protest': 1, 'council': 1, '6510': 1, 'frien...  "
      ]
     },
     "execution_count": 8,
     "metadata": {},
     "output_type": "execute_result"
    }
   ],
   "source": [
    "df.head(3)"
   ]
  },
  {
   "cell_type": "code",
   "execution_count": 11,
   "metadata": {
    "collapsed": true
   },
   "outputs": [],
   "source": [
    "sub_df = df.loc[:,['title', 'year','reviews_mono', 'contents_mono', 'reviews_bi', 'contents_bi', 'reviews_tri', 'contents_tri']].copy()"
   ]
  },
  {
   "cell_type": "code",
   "execution_count": 12,
   "metadata": {
    "collapsed": false
   },
   "outputs": [
    {
     "data": {
      "text/html": [
       "<div>\n",
       "<table border=\"1\" class=\"dataframe\">\n",
       "  <thead>\n",
       "    <tr style=\"text-align: right;\">\n",
       "      <th></th>\n",
       "      <th>title</th>\n",
       "      <th>year</th>\n",
       "      <th>reviews_mono</th>\n",
       "      <th>contents_mono</th>\n",
       "      <th>reviews_bi</th>\n",
       "      <th>contents_bi</th>\n",
       "      <th>reviews_tri</th>\n",
       "      <th>contents_tri</th>\n",
       "    </tr>\n",
       "  </thead>\n",
       "  <tbody>\n",
       "    <tr>\n",
       "      <th>0</th>\n",
       "      <td>Dead Awake</td>\n",
       "      <td>2016</td>\n",
       "      <td>{'movi': 3, 'bathtub': 1, 'writer': 1, 'occur'...</td>\n",
       "      <td>{'grant': 2, 'target': 1, 'bowman': 2, 'myster...</td>\n",
       "      <td>{('happen', 'that'): 1, ('time', 'year'): 1, (...</td>\n",
       "      <td>{('film', 'saw'): 1, ('sleep', 'paralysi'): 1,...</td>\n",
       "      <td>{('first', 'time', 'saw'): 1, ('like', 'horror...</td>\n",
       "      <td>{('link', 'offici', 'websit'): 1, ('extern', '...</td>\n",
       "    </tr>\n",
       "    <tr>\n",
       "      <th>10</th>\n",
       "      <td>A Good American</td>\n",
       "      <td>2015</td>\n",
       "      <td>{'predict': 1, 'current': 1, 'piec': 1, 'creat...</td>\n",
       "      <td>{'inventor': 1, 'conspiraci': 1, 'gener': 1, '...</td>\n",
       "      <td>{('american', 'film'): 1, ('charact', 'base'):...</td>\n",
       "      <td>{('good', 'american'): 2, ('produc', 'direct')...</td>\n",
       "      <td>{}</td>\n",
       "      <td>{('critic', 'recept', 'film'): 1, ('new', 'yor...</td>\n",
       "    </tr>\n",
       "    <tr>\n",
       "      <th>11</th>\n",
       "      <td>Hard Tide</td>\n",
       "      <td>2015</td>\n",
       "      <td>{'folk': 1, 'council': 1, 'famili': 1, 'nathan...</td>\n",
       "      <td>{'protest': 1, 'council': 1, '6510': 1, 'frien...</td>\n",
       "      <td>{('movi', 'releas'): 1, ('right', 'thing'): 1,...</td>\n",
       "      <td>{('threaten', 'kill'): 1, ('father', 'death'):...</td>\n",
       "      <td>{('end', 'credit', 'roll'): 1, ('make', 'film'...</td>\n",
       "      <td>{('film', 'festiv', 'septemb'): 1, ('film', 'p...</td>\n",
       "    </tr>\n",
       "    <tr>\n",
       "      <th>13</th>\n",
       "      <td>Carrie Pilby</td>\n",
       "      <td>2016</td>\n",
       "      <td>{'movi': 4, 'smart': 1, 'happi': 2, 'edg': 1, ...</td>\n",
       "      <td>{'due': 1, '9': 1, 'cartsoni': 1, 'writer': 1,...</td>\n",
       "      <td>{('live', 'new'): 2, ('netflix', 'stream'): 1,...</td>\n",
       "      <td>{('limit', 'releas'): 2, ('princip', 'photogra...</td>\n",
       "      <td>{('19', 'year', 'old'): 1, ('intern', 'film', ...</td>\n",
       "      <td>{('intern', 'film', 'festiv'): 2, ('releas', '...</td>\n",
       "    </tr>\n",
       "    <tr>\n",
       "      <th>14</th>\n",
       "      <td>A Dark Song</td>\n",
       "      <td>2016</td>\n",
       "      <td>{'claim': 2, 'cheap': 2, 'behest': 1, 'wander'...</td>\n",
       "      <td>{'dilapid': 1, 'audaci': 1, 'comic': 1, 'demon...</td>\n",
       "      <td>{('good', 'premis'): 1, ('make', 'sens'): 1, (...</td>\n",
       "      <td>{('two', 'complet'): 1, ('film', 'festiv'): 2,...</td>\n",
       "      <td>{('know', 'go', 'happen'): 1, ('featur', 'film...</td>\n",
       "      <td>{('film', 'festiv', 'releas'): 1, ('recept', '...</td>\n",
       "    </tr>\n",
       "  </tbody>\n",
       "</table>\n",
       "</div>"
      ],
      "text/plain": [
       "              title  year                                       reviews_mono  \\\n",
       "0        Dead Awake  2016  {'movi': 3, 'bathtub': 1, 'writer': 1, 'occur'...   \n",
       "10  A Good American  2015  {'predict': 1, 'current': 1, 'piec': 1, 'creat...   \n",
       "11        Hard Tide  2015  {'folk': 1, 'council': 1, 'famili': 1, 'nathan...   \n",
       "13     Carrie Pilby  2016  {'movi': 4, 'smart': 1, 'happi': 2, 'edg': 1, ...   \n",
       "14      A Dark Song  2016  {'claim': 2, 'cheap': 2, 'behest': 1, 'wander'...   \n",
       "\n",
       "                                        contents_mono  \\\n",
       "0   {'grant': 2, 'target': 1, 'bowman': 2, 'myster...   \n",
       "10  {'inventor': 1, 'conspiraci': 1, 'gener': 1, '...   \n",
       "11  {'protest': 1, 'council': 1, '6510': 1, 'frien...   \n",
       "13  {'due': 1, '9': 1, 'cartsoni': 1, 'writer': 1,...   \n",
       "14  {'dilapid': 1, 'audaci': 1, 'comic': 1, 'demon...   \n",
       "\n",
       "                                           reviews_bi  \\\n",
       "0   {('happen', 'that'): 1, ('time', 'year'): 1, (...   \n",
       "10  {('american', 'film'): 1, ('charact', 'base'):...   \n",
       "11  {('movi', 'releas'): 1, ('right', 'thing'): 1,...   \n",
       "13  {('live', 'new'): 2, ('netflix', 'stream'): 1,...   \n",
       "14  {('good', 'premis'): 1, ('make', 'sens'): 1, (...   \n",
       "\n",
       "                                          contents_bi  \\\n",
       "0   {('film', 'saw'): 1, ('sleep', 'paralysi'): 1,...   \n",
       "10  {('good', 'american'): 2, ('produc', 'direct')...   \n",
       "11  {('threaten', 'kill'): 1, ('father', 'death'):...   \n",
       "13  {('limit', 'releas'): 2, ('princip', 'photogra...   \n",
       "14  {('two', 'complet'): 1, ('film', 'festiv'): 2,...   \n",
       "\n",
       "                                          reviews_tri  \\\n",
       "0   {('first', 'time', 'saw'): 1, ('like', 'horror...   \n",
       "10                                                 {}   \n",
       "11  {('end', 'credit', 'roll'): 1, ('make', 'film'...   \n",
       "13  {('19', 'year', 'old'): 1, ('intern', 'film', ...   \n",
       "14  {('know', 'go', 'happen'): 1, ('featur', 'film...   \n",
       "\n",
       "                                         contents_tri  \n",
       "0   {('link', 'offici', 'websit'): 1, ('extern', '...  \n",
       "10  {('critic', 'recept', 'film'): 1, ('new', 'yor...  \n",
       "11  {('film', 'festiv', 'septemb'): 1, ('film', 'p...  \n",
       "13  {('intern', 'film', 'festiv'): 2, ('releas', '...  \n",
       "14  {('film', 'festiv', 'releas'): 1, ('recept', '...  "
      ]
     },
     "execution_count": 12,
     "metadata": {},
     "output_type": "execute_result"
    }
   ],
   "source": [
    "sub_df.head()"
   ]
  },
  {
   "cell_type": "code",
   "execution_count": 14,
   "metadata": {
    "collapsed": false
   },
   "outputs": [
    {
     "data": {
      "text/plain": [
       "['ngrams', 'ngrams_01.npy', 'ngrams_02.npy', 'ngrams_03.npy', 'ngrams_04.npy']"
      ]
     },
     "execution_count": 14,
     "metadata": {},
     "output_type": "execute_result"
    }
   ],
   "source": [
    "joblib.dump(sub_df, 'ngrams')"
   ]
  },
  {
   "cell_type": "code",
   "execution_count": null,
   "metadata": {
    "collapsed": true
   },
   "outputs": [],
   "source": []
  }
 ],
 "metadata": {
  "anaconda-cloud": {},
  "kernelspec": {
   "display_name": "Python [default]",
   "language": "python",
   "name": "python3"
  },
  "language_info": {
   "codemirror_mode": {
    "name": "ipython",
    "version": 3
   },
   "file_extension": ".py",
   "mimetype": "text/x-python",
   "name": "python",
   "nbconvert_exporter": "python",
   "pygments_lexer": "ipython3",
   "version": "3.5.2"
  }
 },
 "nbformat": 4,
 "nbformat_minor": 1
}
