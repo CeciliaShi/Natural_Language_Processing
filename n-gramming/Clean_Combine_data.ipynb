{
 "cells": [
  {
   "cell_type": "code",
   "execution_count": 2,
   "metadata": {
    "collapsed": true
   },
   "outputs": [],
   "source": [
    "import numpy as np\n",
    "import pandas as pd\n",
    "import nltk\n",
    "import os\n",
    "from sklearn.externals import joblib\n",
    "#nltk.download('stopwords')\n",
    "from nltk.corpus import stopwords\n",
    "import string\n",
    "from string import punctuation\n",
    "import re\n",
    "from nltk.stem.snowball import SnowballStemmer\n",
    "from nltk.stem import PorterStemmer\n",
    "ps = PorterStemmer()"
   ]
  },
  {
   "cell_type": "markdown",
   "metadata": {},
   "source": [
    "## combine data"
   ]
  },
  {
   "cell_type": "code",
   "execution_count": 199,
   "metadata": {
    "collapsed": false
   },
   "outputs": [],
   "source": [
    "# read in data \n",
    "df1 = pd.read_csv('reviews_wiki_0_1000_v2.csv',  encoding = \"ISO-8859-1\")\n",
    "df2 = pd.read_csv('reviews_wiki_1000_2000.csv',  encoding = \"ISO-8859-1\")\n",
    "df3 = pd.read_csv('reviews_wiki_2000_3101.csv',  encoding = \"ISO-8859-1\")\n",
    "\n",
    "# drop the first columns\n",
    "df1.drop('Unnamed: 0', 1, inplace=True)\n",
    "df2.drop('Unnamed: 0', 1, inplace=True)\n",
    "df3.drop('Unnamed: 0', 1, inplace=True)"
   ]
  },
  {
   "cell_type": "code",
   "execution_count": 201,
   "metadata": {
    "collapsed": false
   },
   "outputs": [],
   "source": [
    "# merge data\n",
    "df = df1.append(df2, ignore_index=True)\n",
    "df = df.append(df3, ignore_index=True)"
   ]
  },
  {
   "cell_type": "code",
   "execution_count": 202,
   "metadata": {
    "collapsed": false
   },
   "outputs": [],
   "source": [
    "# split wiki_titile\n",
    "regex = re.compile('.*(\\((\\d{4}\\s+)?film\\))')"
   ]
  },
  {
   "cell_type": "code",
   "execution_count": 203,
   "metadata": {
    "collapsed": true
   },
   "outputs": [],
   "source": [
    "def split_film(movie_title):\n",
    "    match = regex.match(movie_title)\n",
    "    try: \n",
    "        res = match.group(1)\n",
    "    except AttributeError:\n",
    "        res = None\n",
    "    return res\n",
    "split_film_ = np.vectorize(split_film)"
   ]
  },
  {
   "cell_type": "code",
   "execution_count": 204,
   "metadata": {
    "collapsed": true
   },
   "outputs": [],
   "source": [
    "def split_year(movie_title):\n",
    "    match = regex.match(movie_title)\n",
    "    try: \n",
    "        res = match.group(2).strip()\n",
    "    except AttributeError:\n",
    "        res = None\n",
    "    return res\n",
    "split_year_ = np.vectorize(split_year)"
   ]
  },
  {
   "cell_type": "code",
   "execution_count": 205,
   "metadata": {
    "collapsed": false
   },
   "outputs": [],
   "source": [
    "# split film and year \n",
    "df['Ind_film'] = split_film_(df['wiki_title'])\n",
    "df['year'] = split_year_(df['wiki_title'])"
   ]
  },
  {
   "cell_type": "code",
   "execution_count": 207,
   "metadata": {
    "collapsed": false
   },
   "outputs": [],
   "source": [
    "# summarise the number of wiki_titles\n",
    "title_count = df.groupby(['title'])[['wiki_title']].count()\n",
    "title_count.reset_index(inplace=True)\n",
    "title_count = title_count.rename(index=str, columns={\"title\": \"title\", \"wiki_title\": \"count\"})"
   ]
  },
  {
   "cell_type": "code",
   "execution_count": 208,
   "metadata": {
    "collapsed": false
   },
   "outputs": [],
   "source": [
    "df = df.merge(title_count, how='left', on='title')"
   ]
  },
  {
   "cell_type": "code",
   "execution_count": 209,
   "metadata": {
    "collapsed": true
   },
   "outputs": [],
   "source": [
    "sub_df = df[(df['count'] == 1) | (df['Ind_film'] != 'None')]"
   ]
  },
  {
   "cell_type": "code",
   "execution_count": 213,
   "metadata": {
    "collapsed": true
   },
   "outputs": [],
   "source": [
    "# movies with year\n",
    "df_w_year = sub_df[sub_df['year'] != 'None']\n",
    "df_wo_year = sub_df[sub_df['year'] == 'None']"
   ]
  },
  {
   "cell_type": "code",
   "execution_count": 214,
   "metadata": {
    "collapsed": false
   },
   "outputs": [
    {
     "name": "stderr",
     "output_type": "stream",
     "text": [
      "C:\\Users\\yanxi\\Anaconda3\\lib\\site-packages\\ipykernel\\__main__.py:2: SettingWithCopyWarning: \n",
      "A value is trying to be set on a copy of a slice from a DataFrame.\n",
      "Try using .loc[row_indexer,col_indexer] = value instead\n",
      "\n",
      "See the caveats in the documentation: http://pandas.pydata.org/pandas-docs/stable/indexing.html#indexing-view-versus-copy\n",
      "  from ipykernel import kernelapp as app\n",
      "C:\\Users\\yanxi\\Anaconda3\\lib\\site-packages\\pandas\\util\\decorators.py:91: SettingWithCopyWarning: \n",
      "A value is trying to be set on a copy of a slice from a DataFrame\n",
      "\n",
      "See the caveats in the documentation: http://pandas.pydata.org/pandas-docs/stable/indexing.html#indexing-view-versus-copy\n",
      "  return func(*args, **kwargs)\n"
     ]
    }
   ],
   "source": [
    "# convert string into numeric\n",
    "df_w_year['year'] = pd.to_numeric(df_w_year['year'])\n",
    "\n",
    "# two duplicate rows \n",
    "df_wo_year.drop_duplicates(inplace=True)"
   ]
  },
  {
   "cell_type": "code",
   "execution_count": 215,
   "metadata": {
    "collapsed": false
   },
   "outputs": [],
   "source": [
    "# read in IMBD reviews\n",
    "imdb = pd.read_csv('movies_reviews_all.csv')\n",
    "imdb.drop(['Unnamed: 0'], axis=1, inplace=True)"
   ]
  },
  {
   "cell_type": "code",
   "execution_count": 216,
   "metadata": {
    "collapsed": false
   },
   "outputs": [],
   "source": [
    "sub_imdb = imdb.copy(deep=True)\n",
    "sub_imdb.drop(['imdbID'], axis=1, inplace=True)"
   ]
  },
  {
   "cell_type": "code",
   "execution_count": 217,
   "metadata": {
    "collapsed": false
   },
   "outputs": [],
   "source": [
    "sub_imdb = pd.merge(sub_imdb, df_w_year[['title', 'year', 'content']], on=['title', 'year'], how='left')\n",
    "\n",
    "sub_imdb = pd.merge(sub_imdb, df_wo_year[['title', 'content']], on=['title'], how='left')"
   ]
  },
  {
   "cell_type": "code",
   "execution_count": 218,
   "metadata": {
    "collapsed": true
   },
   "outputs": [],
   "source": [
    "def combine_cols(val1, val2):\n",
    "    if pd.isnull(val1):\n",
    "        return val2\n",
    "    if pd.isnull(val2):\n",
    "        return val1"
   ]
  },
  {
   "cell_type": "code",
   "execution_count": 219,
   "metadata": {
    "collapsed": false
   },
   "outputs": [],
   "source": [
    "sub_imdb['content'] = sub_imdb.apply(lambda row: combine_cols(row['content_x'], row['content_y']), axis=1)\n",
    "sub_imdb.drop(['content_x', 'content_y'], axis=1, inplace=True)"
   ]
  },
  {
   "cell_type": "code",
   "execution_count": 236,
   "metadata": {
    "collapsed": false
   },
   "outputs": [],
   "source": [
    "# remove missing rows\n",
    "df_combined = sub_imdb[(sub_imdb['reviews'].notnull())&(sub_imdb['content'].notnull())]"
   ]
  },
  {
   "cell_type": "code",
   "execution_count": 241,
   "metadata": {
    "collapsed": false,
    "scrolled": true
   },
   "outputs": [
    {
     "data": {
      "text/plain": [
       "(1549, 5)"
      ]
     },
     "execution_count": 241,
     "metadata": {},
     "output_type": "execute_result"
    }
   ],
   "source": [
    "df_combined.shape"
   ]
  },
  {
   "cell_type": "code",
   "execution_count": 243,
   "metadata": {
    "collapsed": true
   },
   "outputs": [],
   "source": [
    "df_combined.to_csv('reviews_combined.csv', index=False)"
   ]
  },
  {
   "cell_type": "code",
   "execution_count": 244,
   "metadata": {
    "collapsed": false
   },
   "outputs": [
    {
     "data": {
      "text/plain": [
       "['reviews_combined',\n",
       " 'reviews_combined_01.npy',\n",
       " 'reviews_combined_02.npy',\n",
       " 'reviews_combined_03.npy',\n",
       " 'reviews_combined_04.npy']"
      ]
     },
     "execution_count": 244,
     "metadata": {},
     "output_type": "execute_result"
    }
   ],
   "source": [
    "joblib.dump(df_combined, 'reviews_combined')"
   ]
  },
  {
   "cell_type": "code",
   "execution_count": 242,
   "metadata": {
    "collapsed": false
   },
   "outputs": [
    {
     "data": {
      "text/html": [
       "<div>\n",
       "<table border=\"1\" class=\"dataframe\">\n",
       "  <thead>\n",
       "    <tr style=\"text-align: right;\">\n",
       "      <th></th>\n",
       "      <th>title</th>\n",
       "      <th>year</th>\n",
       "      <th>synopsis</th>\n",
       "      <th>reviews</th>\n",
       "      <th>content</th>\n",
       "    </tr>\n",
       "  </thead>\n",
       "  <tbody>\n",
       "    <tr>\n",
       "      <th>0</th>\n",
       "      <td>Dead Awake</td>\n",
       "      <td>2016</td>\n",
       "      <td>While investigating the death of her twin sist...</td>\n",
       "      <td>The movie is nothing new, nothing you haven't ...</td>\n",
       "      <td>Dead Awake is a 2016 American supernatural psy...</td>\n",
       "    </tr>\n",
       "    <tr>\n",
       "      <th>10</th>\n",
       "      <td>A Good American</td>\n",
       "      <td>2015</td>\n",
       "      <td>This documentary reveals the truth about an NS...</td>\n",
       "      <td>Many documentaries show us situations that we ...</td>\n",
       "      <td>A Good American is a 2015 Austrian documentary...</td>\n",
       "    </tr>\n",
       "    <tr>\n",
       "      <th>11</th>\n",
       "      <td>Hard Tide</td>\n",
       "      <td>2015</td>\n",
       "      <td>A drug dealer who's been emulating his father'...</td>\n",
       "      <td>Watched this rot last night. If your tempted d...</td>\n",
       "      <td>Hard Tide is a 2015 British crime drama writte...</td>\n",
       "    </tr>\n",
       "    <tr>\n",
       "      <th>13</th>\n",
       "      <td>Carrie Pilby</td>\n",
       "      <td>2016</td>\n",
       "      <td>A socially awkward 19-year-old genius makes bi...</td>\n",
       "      <td>I was so excited to see this film at the Toron...</td>\n",
       "      <td>Carrie Pilby is a 2016 American comedy film di...</td>\n",
       "    </tr>\n",
       "    <tr>\n",
       "      <th>14</th>\n",
       "      <td>A Dark Song</td>\n",
       "      <td>2016</td>\n",
       "      <td>Grieving the death of her son, a woman hires a...</td>\n",
       "      <td>This writer has always felt that the job of a ...</td>\n",
       "      <td>A Dark Song is a 2016 Irish independent horror...</td>\n",
       "    </tr>\n",
       "    <tr>\n",
       "      <th>18</th>\n",
       "      <td>Bright Star</td>\n",
       "      <td>2009</td>\n",
       "      <td>This drama details the passionate three-year r...</td>\n",
       "      <td>With such high hopes for a film, a letdown is ...</td>\n",
       "      <td>Bright Star is a 2009 British-French-Australia...</td>\n",
       "    </tr>\n",
       "    <tr>\n",
       "      <th>19</th>\n",
       "      <td>Chloe</td>\n",
       "      <td>2009</td>\n",
       "      <td>Suspecting her husband of infidelity, Catherin...</td>\n",
       "      <td>This film reminded me of the 90's wave of erot...</td>\n",
       "      <td>Chloe is a 2009 erotic thriller film directed ...</td>\n",
       "    </tr>\n",
       "    <tr>\n",
       "      <th>20</th>\n",
       "      <td>Easy Virtue</td>\n",
       "      <td>2008</td>\n",
       "      <td>An American widow impulsively marries a wealth...</td>\n",
       "      <td>Easy Virtue is a very liberal adaptation of No...</td>\n",
       "      <td>Easy Virtue is a 2008 British romantic comedy ...</td>\n",
       "    </tr>\n",
       "    <tr>\n",
       "      <th>21</th>\n",
       "      <td>Kicking and Screaming</td>\n",
       "      <td>1995</td>\n",
       "      <td>After graduating, four college roomies -- petr...</td>\n",
       "      <td>This is simply the best \"Big Chill\" movie sinc...</td>\n",
       "      <td>Kicking and Screaming is a 1995 film by Noah B...</td>\n",
       "    </tr>\n",
       "    <tr>\n",
       "      <th>22</th>\n",
       "      <td>Vincent N Roxxy</td>\n",
       "      <td>2016</td>\n",
       "      <td>In rural Louisiana, a terse loner forges a red...</td>\n",
       "      <td>What a shitty movie. All this movie does is gi...</td>\n",
       "      <td>Vincent N Roxxy is a 2016 American action crim...</td>\n",
       "    </tr>\n",
       "    <tr>\n",
       "      <th>23</th>\n",
       "      <td>Ali</td>\n",
       "      <td>2001</td>\n",
       "      <td>Boxing legend Muhammad Ali stirred controversy...</td>\n",
       "      <td>Some people never liked Ali. He is one of thos...</td>\n",
       "      <td>Ali is a 2001 American biographical sports dra...</td>\n",
       "    </tr>\n",
       "    <tr>\n",
       "      <th>24</th>\n",
       "      <td>Barefoot in the Park</td>\n",
       "      <td>1967</td>\n",
       "      <td>A pair of newlyweds -- he, a stuffed-shirt law...</td>\n",
       "      <td>I'm no great fan of Neil Simon, but this neat ...</td>\n",
       "      <td>Barefoot in the Park is a 1967 American comedy...</td>\n",
       "    </tr>\n",
       "    <tr>\n",
       "      <th>27</th>\n",
       "      <td>The Chase</td>\n",
       "      <td>1966</td>\n",
       "      <td>After Bubber Reeves escapes from prison, he fi...</td>\n",
       "      <td>Of course it's cheesy, it's supposed to be!  I...</td>\n",
       "      <td>The Chase is a 1966 Technicolor American drama...</td>\n",
       "    </tr>\n",
       "    <tr>\n",
       "      <th>28</th>\n",
       "      <td>Dead Poets Society</td>\n",
       "      <td>1989</td>\n",
       "      <td>An unconventional teacher inspires students th...</td>\n",
       "      <td>There are certain films that get under your sk...</td>\n",
       "      <td>Dead Poets Society is a 1989 American drama fi...</td>\n",
       "    </tr>\n",
       "    <tr>\n",
       "      <th>29</th>\n",
       "      <td>Deep Blue Sea</td>\n",
       "      <td>1999</td>\n",
       "      <td>Scientists conduct research on sharks, hoping ...</td>\n",
       "      <td>After the opening scene of *Deep Blue Sea*, in...</td>\n",
       "      <td>Deep Blue Sea is a 1999 American science ficti...</td>\n",
       "    </tr>\n",
       "    <tr>\n",
       "      <th>32</th>\n",
       "      <td>The Electric Horseman</td>\n",
       "      <td>1979</td>\n",
       "      <td>An alcoholic former rodeo champion who's been ...</td>\n",
       "      <td>OK, first, to the reviewer that suggested \"too...</td>\n",
       "      <td>The Electric Horseman is a 1979 American weste...</td>\n",
       "    </tr>\n",
       "    <tr>\n",
       "      <th>33</th>\n",
       "      <td>Fracture</td>\n",
       "      <td>2007</td>\n",
       "      <td>Ted Crawford, who allegedly attempted to murde...</td>\n",
       "      <td>I thought the intellectual chess game between ...</td>\n",
       "      <td>Fracture is a 2007 American-German legal drama...</td>\n",
       "    </tr>\n",
       "    <tr>\n",
       "      <th>36</th>\n",
       "      <td>Gone Baby Gone</td>\n",
       "      <td>2007</td>\n",
       "      <td>When a 4-year-old girl vanishes from a rough B...</td>\n",
       "      <td>I would consider myself to be a movie buff and...</td>\n",
       "      <td>Gone Baby Gone is a 2007 American neo-noir mys...</td>\n",
       "    </tr>\n",
       "    <tr>\n",
       "      <th>37</th>\n",
       "      <td>Greenberg</td>\n",
       "      <td>2010</td>\n",
       "      <td>At a crossroads in his life, Roger house-sits ...</td>\n",
       "      <td>... (which, if you've read the other reviews h...</td>\n",
       "      <td>Greenberg is a 2010 American comedy-drama film...</td>\n",
       "    </tr>\n",
       "    <tr>\n",
       "      <th>39</th>\n",
       "      <td>Hercules</td>\n",
       "      <td>1997</td>\n",
       "      <td>The heavenly Hercules is stripped of his immor...</td>\n",
       "      <td>I'm shocked to see this movie with a rating be...</td>\n",
       "      <td>Hercules is a 1997 American animated musical f...</td>\n",
       "    </tr>\n",
       "  </tbody>\n",
       "</table>\n",
       "</div>"
      ],
      "text/plain": [
       "                    title  year  \\\n",
       "0              Dead Awake  2016   \n",
       "10        A Good American  2015   \n",
       "11              Hard Tide  2015   \n",
       "13           Carrie Pilby  2016   \n",
       "14            A Dark Song  2016   \n",
       "18            Bright Star  2009   \n",
       "19                  Chloe  2009   \n",
       "20            Easy Virtue  2008   \n",
       "21  Kicking and Screaming  1995   \n",
       "22        Vincent N Roxxy  2016   \n",
       "23                    Ali  2001   \n",
       "24   Barefoot in the Park  1967   \n",
       "27              The Chase  1966   \n",
       "28     Dead Poets Society  1989   \n",
       "29          Deep Blue Sea  1999   \n",
       "32  The Electric Horseman  1979   \n",
       "33               Fracture  2007   \n",
       "36         Gone Baby Gone  2007   \n",
       "37              Greenberg  2010   \n",
       "39               Hercules  1997   \n",
       "\n",
       "                                             synopsis  \\\n",
       "0   While investigating the death of her twin sist...   \n",
       "10  This documentary reveals the truth about an NS...   \n",
       "11  A drug dealer who's been emulating his father'...   \n",
       "13  A socially awkward 19-year-old genius makes bi...   \n",
       "14  Grieving the death of her son, a woman hires a...   \n",
       "18  This drama details the passionate three-year r...   \n",
       "19  Suspecting her husband of infidelity, Catherin...   \n",
       "20  An American widow impulsively marries a wealth...   \n",
       "21  After graduating, four college roomies -- petr...   \n",
       "22  In rural Louisiana, a terse loner forges a red...   \n",
       "23  Boxing legend Muhammad Ali stirred controversy...   \n",
       "24  A pair of newlyweds -- he, a stuffed-shirt law...   \n",
       "27  After Bubber Reeves escapes from prison, he fi...   \n",
       "28  An unconventional teacher inspires students th...   \n",
       "29  Scientists conduct research on sharks, hoping ...   \n",
       "32  An alcoholic former rodeo champion who's been ...   \n",
       "33  Ted Crawford, who allegedly attempted to murde...   \n",
       "36  When a 4-year-old girl vanishes from a rough B...   \n",
       "37  At a crossroads in his life, Roger house-sits ...   \n",
       "39  The heavenly Hercules is stripped of his immor...   \n",
       "\n",
       "                                              reviews  \\\n",
       "0   The movie is nothing new, nothing you haven't ...   \n",
       "10  Many documentaries show us situations that we ...   \n",
       "11  Watched this rot last night. If your tempted d...   \n",
       "13  I was so excited to see this film at the Toron...   \n",
       "14  This writer has always felt that the job of a ...   \n",
       "18  With such high hopes for a film, a letdown is ...   \n",
       "19  This film reminded me of the 90's wave of erot...   \n",
       "20  Easy Virtue is a very liberal adaptation of No...   \n",
       "21  This is simply the best \"Big Chill\" movie sinc...   \n",
       "22  What a shitty movie. All this movie does is gi...   \n",
       "23  Some people never liked Ali. He is one of thos...   \n",
       "24  I'm no great fan of Neil Simon, but this neat ...   \n",
       "27  Of course it's cheesy, it's supposed to be!  I...   \n",
       "28  There are certain films that get under your sk...   \n",
       "29  After the opening scene of *Deep Blue Sea*, in...   \n",
       "32  OK, first, to the reviewer that suggested \"too...   \n",
       "33  I thought the intellectual chess game between ...   \n",
       "36  I would consider myself to be a movie buff and...   \n",
       "37  ... (which, if you've read the other reviews h...   \n",
       "39  I'm shocked to see this movie with a rating be...   \n",
       "\n",
       "                                              content  \n",
       "0   Dead Awake is a 2016 American supernatural psy...  \n",
       "10  A Good American is a 2015 Austrian documentary...  \n",
       "11  Hard Tide is a 2015 British crime drama writte...  \n",
       "13  Carrie Pilby is a 2016 American comedy film di...  \n",
       "14  A Dark Song is a 2016 Irish independent horror...  \n",
       "18  Bright Star is a 2009 British-French-Australia...  \n",
       "19  Chloe is a 2009 erotic thriller film directed ...  \n",
       "20  Easy Virtue is a 2008 British romantic comedy ...  \n",
       "21  Kicking and Screaming is a 1995 film by Noah B...  \n",
       "22  Vincent N Roxxy is a 2016 American action crim...  \n",
       "23  Ali is a 2001 American biographical sports dra...  \n",
       "24  Barefoot in the Park is a 1967 American comedy...  \n",
       "27  The Chase is a 1966 Technicolor American drama...  \n",
       "28  Dead Poets Society is a 1989 American drama fi...  \n",
       "29  Deep Blue Sea is a 1999 American science ficti...  \n",
       "32  The Electric Horseman is a 1979 American weste...  \n",
       "33  Fracture is a 2007 American-German legal drama...  \n",
       "36  Gone Baby Gone is a 2007 American neo-noir mys...  \n",
       "37  Greenberg is a 2010 American comedy-drama film...  \n",
       "39  Hercules is a 1997 American animated musical f...  "
      ]
     },
     "execution_count": 242,
     "metadata": {},
     "output_type": "execute_result"
    }
   ],
   "source": [
    "df_combined.head(20)"
   ]
  },
  {
   "cell_type": "markdown",
   "metadata": {
    "collapsed": true
   },
   "source": [
    "## clean stopwords, punctuations and finish stemming"
   ]
  },
  {
   "cell_type": "code",
   "execution_count": 3,
   "metadata": {
    "collapsed": false
   },
   "outputs": [],
   "source": [
    "df = joblib.load('/Users/yanxi/Documents/2017 Fall/Independent Study/data/reviews_combined')"
   ]
  },
  {
   "cell_type": "code",
   "execution_count": null,
   "metadata": {
    "collapsed": false
   },
   "outputs": [],
   "source": [
    "stopwords1 = [v.strip() for v in open('stop_words.txt').readlines()]\n",
    "stop = stopwords.words('english')\n",
    "STOPWORDS = set(stopwords1).union(set(stop))"
   ]
  },
  {
   "cell_type": "code",
   "execution_count": null,
   "metadata": {
    "collapsed": true
   },
   "outputs": [],
   "source": [
    "re_punc = '|'.join([re.escape(x) for x in string.punctuation])\n",
    "# remove punc\n",
    "df['synopsis'] = df['synopsis'].str.replace(re_punc,'')\n",
    "df['reviews'] = df['reviews'].str.replace(re_punc,'')\n",
    "df['content'] = df['content'].str.replace(re_punc,'')"
   ]
  },
  {
   "cell_type": "code",
   "execution_count": null,
   "metadata": {
    "collapsed": true
   },
   "outputs": [],
   "source": [
    "# to lower case \n",
    "df['synopsis'] = df.apply(lambda row: row['synopsis'].lower(), axis=1)\n",
    "df['reviews'] = df.apply(lambda row: row['reviews'].lower(), axis=1)\n",
    "df['content'] = df.apply(lambda row: row['content'].lower(), axis=1)"
   ]
  },
  {
   "cell_type": "code",
   "execution_count": null,
   "metadata": {
    "collapsed": true
   },
   "outputs": [],
   "source": [
    "# split words and remove stop words\n",
    "def remove_stopwords(text):\n",
    "    words = [word for word in text.split() if word not in STOPWORDS]\n",
    "    text_new = \" \".join(words)\n",
    "    return(text_new)\n",
    "\n",
    "remove_stopwords_ = np.vectorize(remove_stopwords)"
   ]
  },
  {
   "cell_type": "code",
   "execution_count": null,
   "metadata": {
    "collapsed": true
   },
   "outputs": [],
   "source": [
    "df['synopsis'] = remove_stopwords_(df['synopsis'])\n",
    "df['reviews'] = remove_stopwords_(df['reviews'])\n",
    "df['content'] = remove_stopwords_(df['content'])"
   ]
  },
  {
   "cell_type": "code",
   "execution_count": null,
   "metadata": {
    "collapsed": true
   },
   "outputs": [],
   "source": [
    "# stemming \n",
    "def stem(word):\n",
    "    return ps.stem(word)\n",
    "stem_ = np.vectorize(stem) "
   ]
  },
  {
   "cell_type": "code",
   "execution_count": null,
   "metadata": {
    "collapsed": true
   },
   "outputs": [],
   "source": [
    "df['synopsis'] = df.apply(lambda row: \" \".join(stem_(row['synopsis'].split())), axis=1)\n",
    "df['reviews'] = df.apply(lambda row: \" \".join(stem_(row['reviews'].split())), axis=1)\n",
    "df['content'] = df.apply(lambda row: \" \".join(stem_(row['content'].split())), axis=1)"
   ]
  },
  {
   "cell_type": "code",
   "execution_count": null,
   "metadata": {
    "collapsed": true
   },
   "outputs": [],
   "source": [
    "joblib.dump(df, 'clean_complete_df')"
   ]
  }
 ],
 "metadata": {
  "anaconda-cloud": {},
  "kernelspec": {
   "display_name": "Python [conda root]",
   "language": "python",
   "name": "conda-root-py"
  },
  "language_info": {
   "codemirror_mode": {
    "name": "ipython",
    "version": 3
   },
   "file_extension": ".py",
   "mimetype": "text/x-python",
   "name": "python",
   "nbconvert_exporter": "python",
   "pygments_lexer": "ipython3",
   "version": "3.5.2"
  }
 },
 "nbformat": 4,
 "nbformat_minor": 1
}
