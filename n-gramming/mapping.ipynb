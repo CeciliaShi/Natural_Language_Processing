{
 "cells": [
  {
   "cell_type": "code",
   "execution_count": 2,
   "metadata": {
    "collapsed": true
   },
   "outputs": [],
   "source": [
    "from sklearn.externals import joblib\n",
    "from collections import Counter\n",
    "import nltk\n",
    "import numpy as np\n",
    "from numba import jit\n",
    "import pickle"
   ]
  },
  {
   "cell_type": "code",
   "execution_count": 4,
   "metadata": {
    "collapsed": true
   },
   "outputs": [],
   "source": [
    "trigram = joblib.load('res_tr.pkl')\n",
    "trigram = set(trigram)"
   ]
  },
  {
   "cell_type": "code",
   "execution_count": 83,
   "metadata": {
    "collapsed": false
   },
   "outputs": [
    {
     "data": {
      "text/plain": [
       "3619"
      ]
     },
     "execution_count": 83,
     "metadata": {},
     "output_type": "execute_result"
    }
   ],
   "source": [
    "len(trigram)"
   ]
  },
  {
   "cell_type": "code",
   "execution_count": 81,
   "metadata": {
    "collapsed": true
   },
   "outputs": [],
   "source": [
    "bigram = joblib.load('res_bi.pkl')\n",
    "bigram = set(bigram)"
   ]
  },
  {
   "cell_type": "code",
   "execution_count": 82,
   "metadata": {
    "collapsed": false
   },
   "outputs": [
    {
     "data": {
      "text/plain": [
       "39075"
      ]
     },
     "execution_count": 82,
     "metadata": {},
     "output_type": "execute_result"
    }
   ],
   "source": [
    "len(bigram)"
   ]
  },
  {
   "cell_type": "code",
   "execution_count": 7,
   "metadata": {
    "collapsed": true
   },
   "outputs": [],
   "source": [
    "clean_complete_df = joblib.load('clean_complete_df')"
   ]
  },
  {
   "cell_type": "code",
   "execution_count": 77,
   "metadata": {
    "collapsed": true
   },
   "outputs": [],
   "source": [
    "def get_trigram(text):\n",
    "    return nltk.FreqDist(nltk.trigrams(nltk.wordpunct_tokenize(text)))\n",
    "\n",
    "get_trigram_ = np.vectorize(get_trigram)"
   ]
  },
  {
   "cell_type": "code",
   "execution_count": 75,
   "metadata": {
    "collapsed": false
   },
   "outputs": [],
   "source": [
    "def find_trigram(c):\n",
    "    d = {}\n",
    "    for k in c.keys():\n",
    "        if k in trigram:\n",
    "            d.update({k: c.get(k)})\n",
    "    return d\n",
    "\n",
    "find_trigram_ = np.vectorize(find_trigram)"
   ]
  },
  {
   "cell_type": "code",
   "execution_count": 84,
   "metadata": {
    "collapsed": true
   },
   "outputs": [],
   "source": [
    "def get_bigram(text):\n",
    "    return nltk.FreqDist(nltk.bigrams(nltk.wordpunct_tokenize(text)))\n",
    "\n",
    "get_bigram_ = np.vectorize(get_bigram)"
   ]
  },
  {
   "cell_type": "code",
   "execution_count": 85,
   "metadata": {
    "collapsed": true
   },
   "outputs": [],
   "source": [
    "def find_bigram(c):\n",
    "    d = {}\n",
    "    for k in c.keys():\n",
    "        if k in bigram:\n",
    "            d.update({k: c.get(k)})\n",
    "    return d\n",
    "\n",
    "find_bigram_ = np.vectorize(find_bigram)"
   ]
  },
  {
   "cell_type": "code",
   "execution_count": 86,
   "metadata": {
    "collapsed": true
   },
   "outputs": [],
   "source": [
    "reviews = get_trigram_(clean_complete_df['reviews'])"
   ]
  },
  {
   "cell_type": "code",
   "execution_count": 87,
   "metadata": {
    "collapsed": false
   },
   "outputs": [],
   "source": [
    "clean_complete_df['reviews_tri'] = find_trigram_(reviews)"
   ]
  },
  {
   "cell_type": "code",
   "execution_count": 88,
   "metadata": {
    "collapsed": true
   },
   "outputs": [],
   "source": [
    "contents = get_trigram_(clean_complete_df['content'])"
   ]
  },
  {
   "cell_type": "code",
   "execution_count": 89,
   "metadata": {
    "collapsed": true
   },
   "outputs": [],
   "source": [
    "clean_complete_df['contents_tri'] = find_trigram_(contents)"
   ]
  },
  {
   "cell_type": "code",
   "execution_count": 92,
   "metadata": {
    "collapsed": true
   },
   "outputs": [],
   "source": [
    "reviews2 = get_bigram_(clean_complete_df['reviews'])"
   ]
  },
  {
   "cell_type": "code",
   "execution_count": 93,
   "metadata": {
    "collapsed": true
   },
   "outputs": [],
   "source": [
    "clean_complete_df['reviews_bi'] = find_bigram_(reviews2)"
   ]
  },
  {
   "cell_type": "code",
   "execution_count": 94,
   "metadata": {
    "collapsed": true
   },
   "outputs": [],
   "source": [
    "contents2 = get_bigram_(clean_complete_df['content'])"
   ]
  },
  {
   "cell_type": "code",
   "execution_count": 95,
   "metadata": {
    "collapsed": true
   },
   "outputs": [],
   "source": [
    "clean_complete_df['contents_bi'] = find_bigram_(contents2)"
   ]
  },
  {
   "cell_type": "code",
   "execution_count": 102,
   "metadata": {
    "collapsed": false
   },
   "outputs": [
    {
     "data": {
      "text/plain": [
       "(1549, 9)"
      ]
     },
     "execution_count": 102,
     "metadata": {},
     "output_type": "execute_result"
    }
   ],
   "source": [
    "clean_complete_df.shape"
   ]
  },
  {
   "cell_type": "code",
   "execution_count": 104,
   "metadata": {
    "collapsed": false
   },
   "outputs": [
    {
     "data": {
      "text/plain": [
       "{('alison', 'pill'): 3,\n",
       " ('award', 'nomin'): 1,\n",
       " ('comedydrama', 'film'): 1,\n",
       " ('comic', 'book'): 1,\n",
       " ('extern', 'link'): 1,\n",
       " ('film', 'direct'): 1,\n",
       " ('film', 'director'): 1,\n",
       " ('film', 'festiv'): 1,\n",
       " ('gael', 'garcia'): 3,\n",
       " ('garcia', 'bernal'): 3,\n",
       " ('intern', 'film'): 1,\n",
       " ('premier', 'toronto'): 1,\n",
       " ('refer', 'extern'): 1,\n",
       " ('stori', 'cast'): 1,\n",
       " ('toronto', 'intern'): 1}"
      ]
     },
     "execution_count": 104,
     "metadata": {},
     "output_type": "execute_result"
    }
   ],
   "source": [
    "clean_complete_df['contents_bi'][1001]"
   ]
  },
  {
   "cell_type": "code",
   "execution_count": 100,
   "metadata": {
    "collapsed": false
   },
   "outputs": [
    {
     "data": {
      "text/plain": [
       "{('2016', 'american'): 1,\n",
       " ('begin', 'investig'): 1,\n",
       " ('extern', 'link'): 1,\n",
       " ('film', 'saw'): 1,\n",
       " ('film', 'written'): 1,\n",
       " ('horror', 'film'): 1,\n",
       " ('link', 'offici'): 1,\n",
       " ('offici', 'websit'): 1,\n",
       " ('peopl', 'die'): 1,\n",
       " ('psycholog', 'horror'): 1,\n",
       " ('refer', 'extern'): 1,\n",
       " ('releas', 'film'): 1,\n",
       " ('sleep', 'paralysi'): 1,\n",
       " ('social', 'worker'): 1,\n",
       " ('world', 'premier'): 1}"
      ]
     },
     "execution_count": 100,
     "metadata": {},
     "output_type": "execute_result"
    }
   ],
   "source": [
    "clean_complete_df['contents_bi'][0]"
   ]
  },
  {
   "cell_type": "code",
   "execution_count": 108,
   "metadata": {
    "collapsed": false
   },
   "outputs": [
    {
     "data": {
      "text/plain": [
       "{('american', 'film'): 1,\n",
       " ('begin', 'end'): 1,\n",
       " ('cage', 'charact'): 1,\n",
       " ('charact', 'base'): 1,\n",
       " ('compel', 'film'): 1,\n",
       " ('complet', 'surpris'): 1,\n",
       " ('documentari', 'show'): 1,\n",
       " ('extrem', 'import'): 1,\n",
       " ('feel', 'like'): 1,\n",
       " ('film', 'guess'): 1,\n",
       " ('film', 'reveal'): 1,\n",
       " ('good', 'american'): 1,\n",
       " ('help', 'lot'): 1,\n",
       " ('inner', 'work'): 1,\n",
       " ('know', 'bit'): 1,\n",
       " ('like', 'happen'): 1,\n",
       " ('lot', 'make'): 1,\n",
       " ('make', 'sens'): 1,\n",
       " ('man', 'good'): 1,\n",
       " ('name', 'name'): 1,\n",
       " ('nicola', 'cage'): 1}"
      ]
     },
     "execution_count": 108,
     "metadata": {},
     "output_type": "execute_result"
    }
   ],
   "source": [
    "clean_complete_df['reviews_bi'][10]"
   ]
  },
  {
   "cell_type": "code",
   "execution_count": 106,
   "metadata": {
    "collapsed": true
   },
   "outputs": [],
   "source": [
    "clean_complete_df.to_pickle('clean_complete_ngram.pickle')"
   ]
  },
  {
   "cell_type": "code",
   "execution_count": 107,
   "metadata": {
    "collapsed": true
   },
   "outputs": [],
   "source": [
    "temp =  joblib.load('clean_complete_ngram.pickle')"
   ]
  },
  {
   "cell_type": "code",
   "execution_count": 109,
   "metadata": {
    "collapsed": false
   },
   "outputs": [
    {
     "data": {
      "text/html": [
       "<div>\n",
       "<table border=\"1\" class=\"dataframe\">\n",
       "  <thead>\n",
       "    <tr style=\"text-align: right;\">\n",
       "      <th></th>\n",
       "      <th>title</th>\n",
       "      <th>year</th>\n",
       "      <th>synopsis</th>\n",
       "      <th>reviews</th>\n",
       "      <th>content</th>\n",
       "      <th>reviews_tri</th>\n",
       "      <th>contents_tri</th>\n",
       "      <th>reviews_bi</th>\n",
       "      <th>contents_bi</th>\n",
       "    </tr>\n",
       "  </thead>\n",
       "  <tbody>\n",
       "    <tr>\n",
       "      <th>0</th>\n",
       "      <td>Dead Awake</td>\n",
       "      <td>2016</td>\n",
       "      <td>investig death twin sister sleep social worker...</td>\n",
       "      <td>movi new havent seen name 3 4 last yeari famil...</td>\n",
       "      <td>dead awak 2016 american supernatur psycholog h...</td>\n",
       "      <td>{('good', 'horror', 'film'): 1, ('good', 'job'...</td>\n",
       "      <td>{('refer', 'extern', 'link'): 1, ('extern', 'l...</td>\n",
       "      <td>{('right', 'right'): 1, ('best', 'thriller'): ...</td>\n",
       "      <td>{('world', 'premier'): 1, ('psycholog', 'horro...</td>\n",
       "    </tr>\n",
       "    <tr>\n",
       "      <th>10</th>\n",
       "      <td>A Good American</td>\n",
       "      <td>2015</td>\n",
       "      <td>documentari reveal truth nsa cryptologist inno...</td>\n",
       "      <td>documentari show situat idea know bit heard re...</td>\n",
       "      <td>good american 2015 austrian documentari film c...</td>\n",
       "      <td>{}</td>\n",
       "      <td>{('new', 'york', 'time'): 1, ('refer', 'extern...</td>\n",
       "      <td>{('make', 'sens'): 1, ('compel', 'film'): 1, (...</td>\n",
       "      <td>{('produc', 'direct'): 1, ('score', 'film'): 1...</td>\n",
       "    </tr>\n",
       "    <tr>\n",
       "      <th>11</th>\n",
       "      <td>Hard Tide</td>\n",
       "      <td>2015</td>\n",
       "      <td>drug dealer who emul father success crimin car...</td>\n",
       "      <td>watch rot last night tempt dont bother script ...</td>\n",
       "      <td>hard tide 2015 british crime drama written dir...</td>\n",
       "      <td>{('nine', 'year', 'old'): 1, ('doesnt', 'take'...</td>\n",
       "      <td>{('gave', 'film', 'posit'): 1, ('recept', 'rot...</td>\n",
       "      <td>{('want', 'good'): 1, ('watch', 'film'): 1, ('...</td>\n",
       "      <td>{('hard', 'time'): 1, ('35', 'star'): 1, ('dru...</td>\n",
       "    </tr>\n",
       "    <tr>\n",
       "      <th>13</th>\n",
       "      <td>Carrie Pilby</td>\n",
       "      <td>2016</td>\n",
       "      <td>social awkward 19yearold geniu make big plan s...</td>\n",
       "      <td>excit see film toronto filmfest last week enjo...</td>\n",
       "      <td>carri pilbi 2016 american comedi film direct s...</td>\n",
       "      <td>{('toronto', 'film', 'festiv'): 1, ('realli', ...</td>\n",
       "      <td>{('acquir', 'distribut', 'right'): 1, ('right'...</td>\n",
       "      <td>{('good', 'role'): 1, ('watch', 'film'): 1, ('...</td>\n",
       "      <td>{('film', 'star'): 1, ('refer', 'extern'): 1, ...</td>\n",
       "    </tr>\n",
       "    <tr>\n",
       "      <th>14</th>\n",
       "      <td>A Dark Song</td>\n",
       "      <td>2016</td>\n",
       "      <td>griev death son woman hire occult expert lead ...</td>\n",
       "      <td>writer felt job review mere whine prattl happe...</td>\n",
       "      <td>dark song 2016 irish independ horror film writ...</td>\n",
       "      <td>{('good', 'horror', 'film'): 1, ('time', 'writ...</td>\n",
       "      <td>{('film', 'festiv', 'releas'): 1, ('london', '...</td>\n",
       "      <td>{('vast', 'major'): 1, ('fantast', 'film'): 1,...</td>\n",
       "      <td>{('end', 'definit'): 1, ('festiv', 'releas'): ...</td>\n",
       "    </tr>\n",
       "  </tbody>\n",
       "</table>\n",
       "</div>"
      ],
      "text/plain": [
       "              title  year                                           synopsis  \\\n",
       "0        Dead Awake  2016  investig death twin sister sleep social worker...   \n",
       "10  A Good American  2015  documentari reveal truth nsa cryptologist inno...   \n",
       "11        Hard Tide  2015  drug dealer who emul father success crimin car...   \n",
       "13     Carrie Pilby  2016  social awkward 19yearold geniu make big plan s...   \n",
       "14      A Dark Song  2016  griev death son woman hire occult expert lead ...   \n",
       "\n",
       "                                              reviews  \\\n",
       "0   movi new havent seen name 3 4 last yeari famil...   \n",
       "10  documentari show situat idea know bit heard re...   \n",
       "11  watch rot last night tempt dont bother script ...   \n",
       "13  excit see film toronto filmfest last week enjo...   \n",
       "14  writer felt job review mere whine prattl happe...   \n",
       "\n",
       "                                              content  \\\n",
       "0   dead awak 2016 american supernatur psycholog h...   \n",
       "10  good american 2015 austrian documentari film c...   \n",
       "11  hard tide 2015 british crime drama written dir...   \n",
       "13  carri pilbi 2016 american comedi film direct s...   \n",
       "14  dark song 2016 irish independ horror film writ...   \n",
       "\n",
       "                                          reviews_tri  \\\n",
       "0   {('good', 'horror', 'film'): 1, ('good', 'job'...   \n",
       "10                                                 {}   \n",
       "11  {('nine', 'year', 'old'): 1, ('doesnt', 'take'...   \n",
       "13  {('toronto', 'film', 'festiv'): 1, ('realli', ...   \n",
       "14  {('good', 'horror', 'film'): 1, ('time', 'writ...   \n",
       "\n",
       "                                         contents_tri  \\\n",
       "0   {('refer', 'extern', 'link'): 1, ('extern', 'l...   \n",
       "10  {('new', 'york', 'time'): 1, ('refer', 'extern...   \n",
       "11  {('gave', 'film', 'posit'): 1, ('recept', 'rot...   \n",
       "13  {('acquir', 'distribut', 'right'): 1, ('right'...   \n",
       "14  {('film', 'festiv', 'releas'): 1, ('london', '...   \n",
       "\n",
       "                                           reviews_bi  \\\n",
       "0   {('right', 'right'): 1, ('best', 'thriller'): ...   \n",
       "10  {('make', 'sens'): 1, ('compel', 'film'): 1, (...   \n",
       "11  {('want', 'good'): 1, ('watch', 'film'): 1, ('...   \n",
       "13  {('good', 'role'): 1, ('watch', 'film'): 1, ('...   \n",
       "14  {('vast', 'major'): 1, ('fantast', 'film'): 1,...   \n",
       "\n",
       "                                          contents_bi  \n",
       "0   {('world', 'premier'): 1, ('psycholog', 'horro...  \n",
       "10  {('produc', 'direct'): 1, ('score', 'film'): 1...  \n",
       "11  {('hard', 'time'): 1, ('35', 'star'): 1, ('dru...  \n",
       "13  {('film', 'star'): 1, ('refer', 'extern'): 1, ...  \n",
       "14  {('end', 'definit'): 1, ('festiv', 'releas'): ...  "
      ]
     },
     "execution_count": 109,
     "metadata": {},
     "output_type": "execute_result"
    }
   ],
   "source": [
    "temp.head()"
   ]
  },
  {
   "cell_type": "code",
   "execution_count": null,
   "metadata": {
    "collapsed": true
   },
   "outputs": [],
   "source": []
  }
 ],
 "metadata": {
  "anaconda-cloud": {},
  "kernelspec": {
   "display_name": "Python [default]",
   "language": "python",
   "name": "python3"
  },
  "language_info": {
   "codemirror_mode": {
    "name": "ipython",
    "version": 3
   },
   "file_extension": ".py",
   "mimetype": "text/x-python",
   "name": "python",
   "nbconvert_exporter": "python",
   "pygments_lexer": "ipython3",
   "version": "3.5.2"
  }
 },
 "nbformat": 4,
 "nbformat_minor": 1
}
