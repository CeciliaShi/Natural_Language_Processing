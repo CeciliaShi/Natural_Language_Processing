{
 "cells": [
  {
   "cell_type": "code",
   "execution_count": 104,
   "metadata": {
    "collapsed": true
   },
   "outputs": [],
   "source": [
    "from sklearn.externals import joblib\n",
    "import pandas as pd\n",
    "import numpy as np\n",
    "from collections import Counter\n",
    "from collections import OrderedDict\n",
    "import matplotlib.pyplot as plt\n",
    "from scipy.spatial.distance import cosine"
   ]
  },
  {
   "cell_type": "code",
   "execution_count": 2,
   "metadata": {
    "collapsed": false
   },
   "outputs": [],
   "source": [
    "data = joblib.load('../data/clean_complete_ngram.pickle')"
   ]
  },
  {
   "cell_type": "code",
   "execution_count": 3,
   "metadata": {
    "collapsed": false
   },
   "outputs": [
    {
     "data": {
      "text/html": [
       "<div>\n",
       "<table border=\"1\" class=\"dataframe\">\n",
       "  <thead>\n",
       "    <tr style=\"text-align: right;\">\n",
       "      <th></th>\n",
       "      <th>title</th>\n",
       "      <th>year</th>\n",
       "      <th>synopsis</th>\n",
       "      <th>reviews</th>\n",
       "      <th>content</th>\n",
       "      <th>reviews_tri</th>\n",
       "      <th>contents_tri</th>\n",
       "      <th>reviews_bi</th>\n",
       "      <th>contents_bi</th>\n",
       "    </tr>\n",
       "  </thead>\n",
       "  <tbody>\n",
       "    <tr>\n",
       "      <th>0</th>\n",
       "      <td>Dead Awake</td>\n",
       "      <td>2016</td>\n",
       "      <td>investig death twin sister sleep social worker...</td>\n",
       "      <td>movi new havent seen name 3 4 last yeari famil...</td>\n",
       "      <td>dead awak 2016 american supernatur psycholog h...</td>\n",
       "      <td>{('make', 'peopl', 'think'): 1, ('first', 'tim...</td>\n",
       "      <td>{('psycholog', 'horror', 'film'): 1, ('link', ...</td>\n",
       "      <td>{('light', 'sound'): 1, ('want', 'get'): 1, ('...</td>\n",
       "      <td>{('2016', 'american'): 1, ('horror', 'film'): ...</td>\n",
       "    </tr>\n",
       "    <tr>\n",
       "      <th>10</th>\n",
       "      <td>A Good American</td>\n",
       "      <td>2015</td>\n",
       "      <td>documentari reveal truth nsa cryptologist inno...</td>\n",
       "      <td>documentari show situat idea know bit heard re...</td>\n",
       "      <td>good american 2015 austrian documentari film c...</td>\n",
       "      <td>{}</td>\n",
       "      <td>{('new', 'york', 'time'): 1, ('link', 'offici'...</td>\n",
       "      <td>{('film', 'reveal'): 1, ('compel', 'film'): 1,...</td>\n",
       "      <td>{('documentari', 'film'): 1, ('background', 'i...</td>\n",
       "    </tr>\n",
       "    <tr>\n",
       "      <th>11</th>\n",
       "      <td>Hard Tide</td>\n",
       "      <td>2015</td>\n",
       "      <td>drug dealer who emul father success crimin car...</td>\n",
       "      <td>watch rot last night tempt dont bother script ...</td>\n",
       "      <td>hard tide 2015 british crime drama written dir...</td>\n",
       "      <td>{('make', 'film', 'look'): 1, ('8', 'year', 'o...</td>\n",
       "      <td>{('rotten', 'tomato', 'review'): 1, ('tomato',...</td>\n",
       "      <td>{('year', 'far'): 1, ('mean', 'see'): 1, ('loc...</td>\n",
       "      <td>{('two', 'day'): 1, ('35', 'star'): 1, ('young...</td>\n",
       "    </tr>\n",
       "  </tbody>\n",
       "</table>\n",
       "</div>"
      ],
      "text/plain": [
       "              title  year                                           synopsis  \\\n",
       "0        Dead Awake  2016  investig death twin sister sleep social worker...   \n",
       "10  A Good American  2015  documentari reveal truth nsa cryptologist inno...   \n",
       "11        Hard Tide  2015  drug dealer who emul father success crimin car...   \n",
       "\n",
       "                                              reviews  \\\n",
       "0   movi new havent seen name 3 4 last yeari famil...   \n",
       "10  documentari show situat idea know bit heard re...   \n",
       "11  watch rot last night tempt dont bother script ...   \n",
       "\n",
       "                                              content  \\\n",
       "0   dead awak 2016 american supernatur psycholog h...   \n",
       "10  good american 2015 austrian documentari film c...   \n",
       "11  hard tide 2015 british crime drama written dir...   \n",
       "\n",
       "                                          reviews_tri  \\\n",
       "0   {('make', 'peopl', 'think'): 1, ('first', 'tim...   \n",
       "10                                                 {}   \n",
       "11  {('make', 'film', 'look'): 1, ('8', 'year', 'o...   \n",
       "\n",
       "                                         contents_tri  \\\n",
       "0   {('psycholog', 'horror', 'film'): 1, ('link', ...   \n",
       "10  {('new', 'york', 'time'): 1, ('link', 'offici'...   \n",
       "11  {('rotten', 'tomato', 'review'): 1, ('tomato',...   \n",
       "\n",
       "                                           reviews_bi  \\\n",
       "0   {('light', 'sound'): 1, ('want', 'get'): 1, ('...   \n",
       "10  {('film', 'reveal'): 1, ('compel', 'film'): 1,...   \n",
       "11  {('year', 'far'): 1, ('mean', 'see'): 1, ('loc...   \n",
       "\n",
       "                                          contents_bi  \n",
       "0   {('2016', 'american'): 1, ('horror', 'film'): ...  \n",
       "10  {('documentari', 'film'): 1, ('background', 'i...  \n",
       "11  {('two', 'day'): 1, ('35', 'star'): 1, ('young...  "
      ]
     },
     "execution_count": 3,
     "metadata": {},
     "output_type": "execute_result"
    }
   ],
   "source": [
    "data.head(3)"
   ]
  },
  {
   "cell_type": "code",
   "execution_count": 4,
   "metadata": {
    "collapsed": false
   },
   "outputs": [],
   "source": [
    "# split into mono-grams\n",
    "data['reviews_mono'] = data.apply(lambda row: Counter(list(zip(row['reviews'].split()))), axis=1)\n",
    "data['content_mono'] = data.apply(lambda row: Counter(list(zip(row['content'].split()))), axis=1)"
   ]
  },
  {
   "cell_type": "code",
   "execution_count": 5,
   "metadata": {
    "collapsed": false
   },
   "outputs": [],
   "source": [
    "data['reviews_n'] = data['reviews_tri'].copy()\n",
    "data['content_n'] = data['contents_tri'].copy()"
   ]
  },
  {
   "cell_type": "code",
   "execution_count": 7,
   "metadata": {
    "collapsed": false
   },
   "outputs": [],
   "source": [
    "# combine mono-grams, bi-grams and tri-grams\n",
    "data['reviews_n'] = data.apply(lambda row: {**row['reviews_n'],**row['reviews_bi'], **row['reviews_mono']}, axis=1)\n",
    "data['content_n'] = data.apply(lambda row: {**row['content_n'],**row['contents_bi'], **row['content_mono']}, axis=1)"
   ]
  },
  {
   "cell_type": "code",
   "execution_count": 8,
   "metadata": {
    "collapsed": true
   },
   "outputs": [],
   "source": [
    "data['n_gram'] = data.apply(lambda row: {**row['reviews_n'], **row['content_n']}, axis=1)"
   ]
  },
  {
   "cell_type": "code",
   "execution_count": 9,
   "metadata": {
    "collapsed": true
   },
   "outputs": [],
   "source": [
    "data['complete'] = data.apply(lambda row: dict.fromkeys(list(row['n_gram'].keys()), 0), axis=1)"
   ]
  },
  {
   "cell_type": "code",
   "execution_count": 10,
   "metadata": {
    "collapsed": true
   },
   "outputs": [],
   "source": [
    "def update_dict(d1, d2):\n",
    "    d1_ = Counter(d1)\n",
    "    d2_ = Counter(d2)\n",
    "    d1_.update(d2_)\n",
    "    return d1_"
   ]
  },
  {
   "cell_type": "code",
   "execution_count": 17,
   "metadata": {
    "collapsed": false
   },
   "outputs": [],
   "source": [
    "# get complete list for imdb and wiki\n",
    "# add zeros \n",
    "data['imdb'] = data.apply(lambda row: update_dict(row['reviews_n'], row['complete']), axis=1)\n",
    "data['wiki'] = data.apply(lambda row: update_dict(row['content_n'], row['complete']), axis=1)"
   ]
  },
  {
   "cell_type": "code",
   "execution_count": 24,
   "metadata": {
    "collapsed": false
   },
   "outputs": [],
   "source": [
    "# sort by keys\n",
    "data['imdb'] = data.apply(lambda row: OrderedDict(sorted(row['imdb'].items())), axis=1)\n",
    "data['wiki'] = data.apply(lambda row: OrderedDict(sorted(row['wiki'].items())), axis=1)"
   ]
  },
  {
   "cell_type": "code",
   "execution_count": 46,
   "metadata": {
    "collapsed": false
   },
   "outputs": [],
   "source": [
    "# compute Euclidean distance \n",
    "data['euclidean'] = data.apply(lambda row: np.sqrt(np.sum((np.array(list(row['imdb'].values()))-np.array(list(row['wiki'].values())))**2)), axis=1)"
   ]
  },
  {
   "cell_type": "code",
   "execution_count": 101,
   "metadata": {
    "collapsed": true
   },
   "outputs": [],
   "source": [
    "data['euclidean_adj'] = data['euclidean']/data['length']"
   ]
  },
  {
   "cell_type": "code",
   "execution_count": 108,
   "metadata": {
    "collapsed": false
   },
   "outputs": [],
   "source": [
    "data['cosine'] = data.apply(lambda row: cosine(list(row['imdb'].values()), list(row['wiki'].values())), axis=1)"
   ]
  },
  {
   "cell_type": "code",
   "execution_count": 65,
   "metadata": {
    "collapsed": true
   },
   "outputs": [],
   "source": [
    "data['length'] = data.apply(lambda row: len(row['complete']), axis=1)"
   ]
  },
  {
   "cell_type": "code",
   "execution_count": 94,
   "metadata": {
    "collapsed": false
   },
   "outputs": [
    {
     "data": {
      "text/html": [
       "<div>\n",
       "<table border=\"1\" class=\"dataframe\">\n",
       "  <thead>\n",
       "    <tr style=\"text-align: right;\">\n",
       "      <th></th>\n",
       "      <th>title</th>\n",
       "      <th>year</th>\n",
       "      <th>synopsis</th>\n",
       "      <th>reviews</th>\n",
       "      <th>content</th>\n",
       "      <th>reviews_tri</th>\n",
       "      <th>contents_tri</th>\n",
       "      <th>reviews_bi</th>\n",
       "      <th>contents_bi</th>\n",
       "      <th>reviews_mono</th>\n",
       "      <th>...</th>\n",
       "      <th>reviews_n</th>\n",
       "      <th>content_n</th>\n",
       "      <th>n_gram</th>\n",
       "      <th>complete</th>\n",
       "      <th>imdb</th>\n",
       "      <th>wiki</th>\n",
       "      <th>euclidean</th>\n",
       "      <th>length</th>\n",
       "      <th>size_flag</th>\n",
       "      <th>euclidean_adj</th>\n",
       "    </tr>\n",
       "  </thead>\n",
       "  <tbody>\n",
       "    <tr>\n",
       "      <th>285</th>\n",
       "      <td>Titanic</td>\n",
       "      <td>1997</td>\n",
       "      <td>distraught engag cruel millionair young woman ...</td>\n",
       "      <td>convers turn favorit movi ill mention titan co...</td>\n",
       "      <td>titan 1997 american epic romancedisast film di...</td>\n",
       "      <td>{('robin', 'wright', 'penn'): 1, ('great', 'lo...</td>\n",
       "      <td>{('intern', 'film', 'festiv'): 1, ('new', 'yor...</td>\n",
       "      <td>{('view', 'life'): 1, ('believ', 'get'): 2, ('...</td>\n",
       "      <td>{('im', 'go'): 2, ('abl', 'make'): 1, ('film',...</td>\n",
       "      <td>{('unjustli',): 4, ('friendslov',): 1, ('subfr...</td>\n",
       "      <td>...</td>\n",
       "      <td>{('view', 'life'): 1, ('behinddur',): 1, ('mov...</td>\n",
       "      <td>{('im', 'go'): 2, ('abl', 'make'): 1, ('event'...</td>\n",
       "      <td>{('movi', 'overr'): 8, ('friendslov',): 1, ('m...</td>\n",
       "      <td>{('view', 'life'): 0, ('actoractress',): 0, ('...</td>\n",
       "      <td>{('0',): 9, ('000',): 3, ('001',): 1, ('01',):...</td>\n",
       "      <td>{('0',): 0, ('000',): 0, ('001',): 0, ('01',):...</td>\n",
       "      <td>15546.651923</td>\n",
       "      <td>36804</td>\n",
       "      <td>True</td>\n",
       "      <td>0.422417</td>\n",
       "    </tr>\n",
       "  </tbody>\n",
       "</table>\n",
       "<p>1 rows × 21 columns</p>\n",
       "</div>"
      ],
      "text/plain": [
       "       title  year                                           synopsis  \\\n",
       "285  Titanic  1997  distraught engag cruel millionair young woman ...   \n",
       "\n",
       "                                               reviews  \\\n",
       "285  convers turn favorit movi ill mention titan co...   \n",
       "\n",
       "                                               content  \\\n",
       "285  titan 1997 american epic romancedisast film di...   \n",
       "\n",
       "                                           reviews_tri  \\\n",
       "285  {('robin', 'wright', 'penn'): 1, ('great', 'lo...   \n",
       "\n",
       "                                          contents_tri  \\\n",
       "285  {('intern', 'film', 'festiv'): 1, ('new', 'yor...   \n",
       "\n",
       "                                            reviews_bi  \\\n",
       "285  {('view', 'life'): 1, ('believ', 'get'): 2, ('...   \n",
       "\n",
       "                                           contents_bi  \\\n",
       "285  {('im', 'go'): 2, ('abl', 'make'): 1, ('film',...   \n",
       "\n",
       "                                          reviews_mono      ...       \\\n",
       "285  {('unjustli',): 4, ('friendslov',): 1, ('subfr...      ...        \n",
       "\n",
       "                                             reviews_n  \\\n",
       "285  {('view', 'life'): 1, ('behinddur',): 1, ('mov...   \n",
       "\n",
       "                                             content_n  \\\n",
       "285  {('im', 'go'): 2, ('abl', 'make'): 1, ('event'...   \n",
       "\n",
       "                                                n_gram  \\\n",
       "285  {('movi', 'overr'): 8, ('friendslov',): 1, ('m...   \n",
       "\n",
       "                                              complete  \\\n",
       "285  {('view', 'life'): 0, ('actoractress',): 0, ('...   \n",
       "\n",
       "                                                  imdb  \\\n",
       "285  {('0',): 9, ('000',): 3, ('001',): 1, ('01',):...   \n",
       "\n",
       "                                                  wiki     euclidean  length  \\\n",
       "285  {('0',): 0, ('000',): 0, ('001',): 0, ('01',):...  15546.651923   36804   \n",
       "\n",
       "     size_flag euclidean_adj  \n",
       "285       True      0.422417  \n",
       "\n",
       "[1 rows x 21 columns]"
      ]
     },
     "execution_count": 94,
     "metadata": {},
     "output_type": "execute_result"
    }
   ],
   "source": [
    "data.loc[data['length']==data['length'].max(), ]"
   ]
  },
  {
   "cell_type": "code",
   "execution_count": 95,
   "metadata": {
    "collapsed": false
   },
   "outputs": [
    {
     "data": {
      "image/png": "[encoded data removed]",
      "text/plain": [
       "<matplotlib.figure.Figure at 0x2972a122198>"
      ]
     },
     "metadata": {},
     "output_type": "display_data"
    }
   ],
   "source": [
    "data['length'].hist(bins=50)\n",
    "plt.show()"
   ]
  },
  {
   "cell_type": "code",
   "execution_count": 102,
   "metadata": {
    "collapsed": false
   },
   "outputs": [
    {
     "data": {
      "image/png": "[encoded data removed]",
      "text/plain": [
       "<matplotlib.figure.Figure at 0x2972650a710>"
      ]
     },
     "metadata": {},
     "output_type": "display_data"
    }
   ],
   "source": [
    "data['euclidean_adj'].hist(bins=50)\n",
    "plt.show()"
   ]
  },
  {
   "cell_type": "code",
   "execution_count": 109,
   "metadata": {
    "collapsed": false
   },
   "outputs": [
    {
     "data": {
      "image/png": "[encoded data removed]",
      "text/plain": [
       "<matplotlib.figure.Figure at 0x2972d4612e8>"
      ]
     },
     "metadata": {},
     "output_type": "display_data"
    }
   ],
   "source": [
    "data['cosine'].hist(bins=50)\n",
    "plt.show()"
   ]
  },
  {
   "cell_type": "code",
   "execution_count": 111,
   "metadata": {
    "collapsed": true
   },
   "outputs": [],
   "source": [
    "data['size_flag'] = data['length'] > 4000"
   ]
  },
  {
   "cell_type": "code",
   "execution_count": 113,
   "metadata": {
    "collapsed": false
   },
   "outputs": [
    {
     "data": {
      "image/png": "[encoded data removed]",
      "text/plain": [
       "<matplotlib.figure.Figure at 0x29726575668>"
      ]
     },
     "metadata": {},
     "output_type": "display_data"
    }
   ],
   "source": [
    "data.boxplot(by = ['size_flag'], column = 'euclidean_adj')\n",
    "plt.show()"
   ]
  },
  {
   "cell_type": "code",
   "execution_count": 112,
   "metadata": {
    "collapsed": false
   },
   "outputs": [
    {
     "data": {
      "image/png": "[encoded data removed]",
      "text/plain": [
       "<matplotlib.figure.Figure at 0x2972653e588>"
      ]
     },
     "metadata": {},
     "output_type": "display_data"
    }
   ],
   "source": [
    "data.boxplot(by = ['size_flag'], column = 'cosine')\n",
    "plt.show()"
   ]
  },
  {
   "cell_type": "code",
   "execution_count": null,
   "metadata": {
    "collapsed": true
   },
   "outputs": [],
   "source": []
  }
 ],
 "metadata": {
  "anaconda-cloud": {},
  "kernelspec": {
   "display_name": "Python [default]",
   "language": "python",
   "name": "python3"
  }
 },
 "nbformat": 4,
 "nbformat_minor": 2
}
